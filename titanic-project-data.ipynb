{
 "cells": [
  {
   "cell_type": "code",
   "execution_count": 1,
   "id": "90b02a2f",
   "metadata": {
    "_cell_guid": "b1076dfc-b9ad-4769-8c92-a6c4dae69d19",
    "_uuid": "8f2839f25d086af736a60e9eeb907d3b93b6e0e5",
    "execution": {
     "iopub.execute_input": "2025-06-17T07:09:54.390032Z",
     "iopub.status.busy": "2025-06-17T07:09:54.389631Z",
     "iopub.status.idle": "2025-06-17T07:09:58.723532Z",
     "shell.execute_reply": "2025-06-17T07:09:58.722486Z"
    },
    "papermill": {
     "duration": 4.34337,
     "end_time": "2025-06-17T07:09:58.725103",
     "exception": false,
     "start_time": "2025-06-17T07:09:54.381733",
     "status": "completed"
    },
    "tags": []
   },
   "outputs": [
    {
     "name": "stdout",
     "output_type": "stream",
     "text": [
      "/kaggle/input/test-file/tested.csv\n",
      "/kaggle/input/titanic-dataset/Titanic-Dataset.csv\n"
     ]
    }
   ],
   "source": [
    "# This Python 3 environment comes with many helpful analytics libraries installed\n",
    "# It is defined by the kaggle/python Docker image: https://github.com/kaggle/docker-python\n",
    "# For example, here's several helpful packages to load\n",
    "\n",
    "import numpy as np # linear algebra\n",
    "import pandas as pd # data processing, CSV file I/O (e.g. pd.read_csv)\n",
    "import matplotlib.pyplot as plt\n",
    "import seaborn as sns\n",
    "from sklearn.model_selection import train_test_split , GridSearchCV\n",
    "from sklearn.preprocessing import MinMaxScaler\n",
    "from sklearn.neighbors import KNeighborsClassifier\n",
    "from sklearn.metrics import accuracy_score , confusion_matrix\n",
    "\n",
    "# Input data files are available in the read-only \"../input/\" directory\n",
    "# For example, running this (by clicking run or pressing Shift+Enter) will list all files under the input directory\n",
    "\n",
    "import os\n",
    "for dirname, _, filenames in os.walk('/kaggle/input'):\n",
    "    for filename in filenames:\n",
    "        print(os.path.join(dirname, filename))\n",
    "\n",
    "# You can write up to 20GB to the current directory (/kaggle/working/) that gets preserved as output when you create a version using \"Save & Run All\" \n",
    "# You can also write temporary files to /kaggle/temp/, but they won't be saved outside of the current session"
   ]
  },
  {
   "cell_type": "code",
   "execution_count": 2,
   "id": "eb481bdf",
   "metadata": {
    "execution": {
     "iopub.execute_input": "2025-06-17T07:09:58.737792Z",
     "iopub.status.busy": "2025-06-17T07:09:58.736887Z",
     "iopub.status.idle": "2025-06-17T07:09:58.767144Z",
     "shell.execute_reply": "2025-06-17T07:09:58.766196Z"
    },
    "papermill": {
     "duration": 0.037939,
     "end_time": "2025-06-17T07:09:58.768772",
     "exception": false,
     "start_time": "2025-06-17T07:09:58.730833",
     "status": "completed"
    },
    "tags": []
   },
   "outputs": [],
   "source": [
    "df = pd.read_csv('/kaggle/input/titanic-dataset/Titanic-Dataset.csv')"
   ]
  },
  {
   "cell_type": "code",
   "execution_count": 3,
   "id": "16b8a5dd",
   "metadata": {
    "execution": {
     "iopub.execute_input": "2025-06-17T07:09:58.780745Z",
     "iopub.status.busy": "2025-06-17T07:09:58.780402Z",
     "iopub.status.idle": "2025-06-17T07:09:58.809454Z",
     "shell.execute_reply": "2025-06-17T07:09:58.808475Z"
    },
    "papermill": {
     "duration": 0.03674,
     "end_time": "2025-06-17T07:09:58.811012",
     "exception": false,
     "start_time": "2025-06-17T07:09:58.774272",
     "status": "completed"
    },
    "tags": []
   },
   "outputs": [
    {
     "data": {
      "text/html": [
       "<div>\n",
       "<style scoped>\n",
       "    .dataframe tbody tr th:only-of-type {\n",
       "        vertical-align: middle;\n",
       "    }\n",
       "\n",
       "    .dataframe tbody tr th {\n",
       "        vertical-align: top;\n",
       "    }\n",
       "\n",
       "    .dataframe thead th {\n",
       "        text-align: right;\n",
       "    }\n",
       "</style>\n",
       "<table border=\"1\" class=\"dataframe\">\n",
       "  <thead>\n",
       "    <tr style=\"text-align: right;\">\n",
       "      <th></th>\n",
       "      <th>PassengerId</th>\n",
       "      <th>Survived</th>\n",
       "      <th>Pclass</th>\n",
       "      <th>Name</th>\n",
       "      <th>Sex</th>\n",
       "      <th>Age</th>\n",
       "      <th>SibSp</th>\n",
       "      <th>Parch</th>\n",
       "      <th>Ticket</th>\n",
       "      <th>Fare</th>\n",
       "      <th>Cabin</th>\n",
       "      <th>Embarked</th>\n",
       "    </tr>\n",
       "  </thead>\n",
       "  <tbody>\n",
       "    <tr>\n",
       "      <th>0</th>\n",
       "      <td>1</td>\n",
       "      <td>0</td>\n",
       "      <td>3</td>\n",
       "      <td>Braund, Mr. Owen Harris</td>\n",
       "      <td>male</td>\n",
       "      <td>22.0</td>\n",
       "      <td>1</td>\n",
       "      <td>0</td>\n",
       "      <td>A/5 21171</td>\n",
       "      <td>7.2500</td>\n",
       "      <td>NaN</td>\n",
       "      <td>S</td>\n",
       "    </tr>\n",
       "    <tr>\n",
       "      <th>1</th>\n",
       "      <td>2</td>\n",
       "      <td>1</td>\n",
       "      <td>1</td>\n",
       "      <td>Cumings, Mrs. John Bradley (Florence Briggs Th...</td>\n",
       "      <td>female</td>\n",
       "      <td>38.0</td>\n",
       "      <td>1</td>\n",
       "      <td>0</td>\n",
       "      <td>PC 17599</td>\n",
       "      <td>71.2833</td>\n",
       "      <td>C85</td>\n",
       "      <td>C</td>\n",
       "    </tr>\n",
       "    <tr>\n",
       "      <th>2</th>\n",
       "      <td>3</td>\n",
       "      <td>1</td>\n",
       "      <td>3</td>\n",
       "      <td>Heikkinen, Miss. Laina</td>\n",
       "      <td>female</td>\n",
       "      <td>26.0</td>\n",
       "      <td>0</td>\n",
       "      <td>0</td>\n",
       "      <td>STON/O2. 3101282</td>\n",
       "      <td>7.9250</td>\n",
       "      <td>NaN</td>\n",
       "      <td>S</td>\n",
       "    </tr>\n",
       "    <tr>\n",
       "      <th>3</th>\n",
       "      <td>4</td>\n",
       "      <td>1</td>\n",
       "      <td>1</td>\n",
       "      <td>Futrelle, Mrs. Jacques Heath (Lily May Peel)</td>\n",
       "      <td>female</td>\n",
       "      <td>35.0</td>\n",
       "      <td>1</td>\n",
       "      <td>0</td>\n",
       "      <td>113803</td>\n",
       "      <td>53.1000</td>\n",
       "      <td>C123</td>\n",
       "      <td>S</td>\n",
       "    </tr>\n",
       "    <tr>\n",
       "      <th>4</th>\n",
       "      <td>5</td>\n",
       "      <td>0</td>\n",
       "      <td>3</td>\n",
       "      <td>Allen, Mr. William Henry</td>\n",
       "      <td>male</td>\n",
       "      <td>35.0</td>\n",
       "      <td>0</td>\n",
       "      <td>0</td>\n",
       "      <td>373450</td>\n",
       "      <td>8.0500</td>\n",
       "      <td>NaN</td>\n",
       "      <td>S</td>\n",
       "    </tr>\n",
       "  </tbody>\n",
       "</table>\n",
       "</div>"
      ],
      "text/plain": [
       "   PassengerId  Survived  Pclass  \\\n",
       "0            1         0       3   \n",
       "1            2         1       1   \n",
       "2            3         1       3   \n",
       "3            4         1       1   \n",
       "4            5         0       3   \n",
       "\n",
       "                                                Name     Sex   Age  SibSp  \\\n",
       "0                            Braund, Mr. Owen Harris    male  22.0      1   \n",
       "1  Cumings, Mrs. John Bradley (Florence Briggs Th...  female  38.0      1   \n",
       "2                             Heikkinen, Miss. Laina  female  26.0      0   \n",
       "3       Futrelle, Mrs. Jacques Heath (Lily May Peel)  female  35.0      1   \n",
       "4                           Allen, Mr. William Henry    male  35.0      0   \n",
       "\n",
       "   Parch            Ticket     Fare Cabin Embarked  \n",
       "0      0         A/5 21171   7.2500   NaN        S  \n",
       "1      0          PC 17599  71.2833   C85        C  \n",
       "2      0  STON/O2. 3101282   7.9250   NaN        S  \n",
       "3      0            113803  53.1000  C123        S  \n",
       "4      0            373450   8.0500   NaN        S  "
      ]
     },
     "execution_count": 3,
     "metadata": {},
     "output_type": "execute_result"
    }
   ],
   "source": [
    "df.head()"
   ]
  },
  {
   "cell_type": "code",
   "execution_count": 4,
   "id": "704d317d",
   "metadata": {
    "execution": {
     "iopub.execute_input": "2025-06-17T07:09:58.823467Z",
     "iopub.status.busy": "2025-06-17T07:09:58.823118Z",
     "iopub.status.idle": "2025-06-17T07:09:58.847588Z",
     "shell.execute_reply": "2025-06-17T07:09:58.846406Z"
    },
    "papermill": {
     "duration": 0.03234,
     "end_time": "2025-06-17T07:09:58.849069",
     "exception": false,
     "start_time": "2025-06-17T07:09:58.816729",
     "status": "completed"
    },
    "tags": []
   },
   "outputs": [
    {
     "name": "stdout",
     "output_type": "stream",
     "text": [
      "<class 'pandas.core.frame.DataFrame'>\n",
      "RangeIndex: 891 entries, 0 to 890\n",
      "Data columns (total 12 columns):\n",
      " #   Column       Non-Null Count  Dtype  \n",
      "---  ------       --------------  -----  \n",
      " 0   PassengerId  891 non-null    int64  \n",
      " 1   Survived     891 non-null    int64  \n",
      " 2   Pclass       891 non-null    int64  \n",
      " 3   Name         891 non-null    object \n",
      " 4   Sex          891 non-null    object \n",
      " 5   Age          714 non-null    float64\n",
      " 6   SibSp        891 non-null    int64  \n",
      " 7   Parch        891 non-null    int64  \n",
      " 8   Ticket       891 non-null    object \n",
      " 9   Fare         891 non-null    float64\n",
      " 10  Cabin        204 non-null    object \n",
      " 11  Embarked     889 non-null    object \n",
      "dtypes: float64(2), int64(5), object(5)\n",
      "memory usage: 83.7+ KB\n"
     ]
    }
   ],
   "source": [
    "df.info()"
   ]
  },
  {
   "cell_type": "code",
   "execution_count": 5,
   "id": "bf0a2b59",
   "metadata": {
    "execution": {
     "iopub.execute_input": "2025-06-17T07:09:58.861345Z",
     "iopub.status.busy": "2025-06-17T07:09:58.861037Z",
     "iopub.status.idle": "2025-06-17T07:09:58.868544Z",
     "shell.execute_reply": "2025-06-17T07:09:58.867643Z"
    },
    "papermill": {
     "duration": 0.015365,
     "end_time": "2025-06-17T07:09:58.870136",
     "exception": false,
     "start_time": "2025-06-17T07:09:58.854771",
     "status": "completed"
    },
    "tags": []
   },
   "outputs": [
    {
     "data": {
      "text/plain": [
       "PassengerId      0\n",
       "Survived         0\n",
       "Pclass           0\n",
       "Name             0\n",
       "Sex              0\n",
       "Age            177\n",
       "SibSp            0\n",
       "Parch            0\n",
       "Ticket           0\n",
       "Fare             0\n",
       "Cabin          687\n",
       "Embarked         2\n",
       "dtype: int64"
      ]
     },
     "execution_count": 5,
     "metadata": {},
     "output_type": "execute_result"
    }
   ],
   "source": [
    "df.isnull().sum()"
   ]
  },
  {
   "cell_type": "code",
   "execution_count": 6,
   "id": "2fc50f63",
   "metadata": {
    "execution": {
     "iopub.execute_input": "2025-06-17T07:09:58.882749Z",
     "iopub.status.busy": "2025-06-17T07:09:58.882400Z",
     "iopub.status.idle": "2025-06-17T07:09:58.886643Z",
     "shell.execute_reply": "2025-06-17T07:09:58.885782Z"
    },
    "papermill": {
     "duration": 0.01206,
     "end_time": "2025-06-17T07:09:58.888133",
     "exception": false,
     "start_time": "2025-06-17T07:09:58.876073",
     "status": "completed"
    },
    "tags": []
   },
   "outputs": [],
   "source": [
    "# def fill_missing_ages(df):\n",
    "#     age_fill_map = {}\n",
    "#     for pclass in df['Pclass'].unique():\n",
    "#         if pclass not in age_fill_map:\n",
    "#             age_fill_map[pclass] = df[df['Pclass'] == pclass].median()\n",
    "\n",
    "#     df['Age'] = df.apply(lambda r : age_fill_map[r['Pclass']]  if pd.isnull(r['Age']) else r['Age'] ,\n",
    "#                       axis =1)"
   ]
  },
  {
   "cell_type": "markdown",
   "id": "b67b700c",
   "metadata": {
    "papermill": {
     "duration": 0.005364,
     "end_time": "2025-06-17T07:09:58.899285",
     "exception": false,
     "start_time": "2025-06-17T07:09:58.893921",
     "status": "completed"
    },
    "tags": []
   },
   "source": [
    "Climatologist: Interpreting Earth’s Warning Signs\n",
    "Climatologists with sophisticated data analytics capabilities are unraveling huge amounts of atmospheric and oceanic data to build models of long-term climate patterns. These models guide everything from global policy measures to local disaster response plans. As the planet confronts more erratic weather patterns, the world needs more data-aware climate scientists than ever before."
   ]
  },
  {
   "cell_type": "code",
   "execution_count": 7,
   "id": "0dd3b88e",
   "metadata": {
    "execution": {
     "iopub.execute_input": "2025-06-17T07:09:58.911789Z",
     "iopub.status.busy": "2025-06-17T07:09:58.911490Z",
     "iopub.status.idle": "2025-06-17T07:09:59.163366Z",
     "shell.execute_reply": "2025-06-17T07:09:59.162451Z"
    },
    "papermill": {
     "duration": 0.260319,
     "end_time": "2025-06-17T07:09:59.165310",
     "exception": false,
     "start_time": "2025-06-17T07:09:58.904991",
     "status": "completed"
    },
    "tags": []
   },
   "outputs": [
    {
     "data": {
      "text/html": [
       "<style type=\"text/css\">\n",
       "#T_33413_row0_col0, #T_33413_row1_col1, #T_33413_row1_col2 {\n",
       "  background-color: #ffff66;\n",
       "  color: #000000;\n",
       "}\n",
       "#T_33413_row0_col1 {\n",
       "  background-color: #cee666;\n",
       "  color: #000000;\n",
       "}\n",
       "#T_33413_row0_col2 {\n",
       "  background-color: #f4fa66;\n",
       "  color: #000000;\n",
       "}\n",
       "#T_33413_row1_col0 {\n",
       "  background-color: #f6fa66;\n",
       "  color: #000000;\n",
       "}\n",
       "#T_33413_row2_col0 {\n",
       "  background-color: #60b066;\n",
       "  color: #f1f1f1;\n",
       "}\n",
       "#T_33413_row2_col1 {\n",
       "  background-color: #dfef66;\n",
       "  color: #000000;\n",
       "}\n",
       "#T_33413_row2_col2 {\n",
       "  background-color: #90c866;\n",
       "  color: #000000;\n",
       "}\n",
       "#T_33413_row3_col0, #T_33413_row3_col1, #T_33413_row3_col2 {\n",
       "  background-color: #008066;\n",
       "  color: #f1f1f1;\n",
       "}\n",
       "</style>\n",
       "<table id=\"T_33413\">\n",
       "  <thead>\n",
       "    <tr>\n",
       "      <th class=\"index_name level0\" >Survived</th>\n",
       "      <th id=\"T_33413_level0_col0\" class=\"col_heading level0 col0\" >0</th>\n",
       "      <th id=\"T_33413_level0_col1\" class=\"col_heading level0 col1\" >1</th>\n",
       "      <th id=\"T_33413_level0_col2\" class=\"col_heading level0 col2\" >All</th>\n",
       "    </tr>\n",
       "    <tr>\n",
       "      <th class=\"index_name level0\" >Pclass</th>\n",
       "      <th class=\"blank col0\" >&nbsp;</th>\n",
       "      <th class=\"blank col1\" >&nbsp;</th>\n",
       "      <th class=\"blank col2\" >&nbsp;</th>\n",
       "    </tr>\n",
       "  </thead>\n",
       "  <tbody>\n",
       "    <tr>\n",
       "      <th id=\"T_33413_level0_row0\" class=\"row_heading level0 row0\" >1</th>\n",
       "      <td id=\"T_33413_row0_col0\" class=\"data row0 col0\" >80</td>\n",
       "      <td id=\"T_33413_row0_col1\" class=\"data row0 col1\" >136</td>\n",
       "      <td id=\"T_33413_row0_col2\" class=\"data row0 col2\" >216</td>\n",
       "    </tr>\n",
       "    <tr>\n",
       "      <th id=\"T_33413_level0_row1\" class=\"row_heading level0 row1\" >2</th>\n",
       "      <td id=\"T_33413_row1_col0\" class=\"data row1 col0\" >97</td>\n",
       "      <td id=\"T_33413_row1_col1\" class=\"data row1 col1\" >87</td>\n",
       "      <td id=\"T_33413_row1_col2\" class=\"data row1 col2\" >184</td>\n",
       "    </tr>\n",
       "    <tr>\n",
       "      <th id=\"T_33413_level0_row2\" class=\"row_heading level0 row2\" >3</th>\n",
       "      <td id=\"T_33413_row2_col0\" class=\"data row2 col0\" >372</td>\n",
       "      <td id=\"T_33413_row2_col1\" class=\"data row2 col1\" >119</td>\n",
       "      <td id=\"T_33413_row2_col2\" class=\"data row2 col2\" >491</td>\n",
       "    </tr>\n",
       "    <tr>\n",
       "      <th id=\"T_33413_level0_row3\" class=\"row_heading level0 row3\" >All</th>\n",
       "      <td id=\"T_33413_row3_col0\" class=\"data row3 col0\" >549</td>\n",
       "      <td id=\"T_33413_row3_col1\" class=\"data row3 col1\" >342</td>\n",
       "      <td id=\"T_33413_row3_col2\" class=\"data row3 col2\" >891</td>\n",
       "    </tr>\n",
       "  </tbody>\n",
       "</table>\n"
      ],
      "text/plain": [
       "<pandas.io.formats.style.Styler at 0x7c49213ebd50>"
      ]
     },
     "execution_count": 7,
     "metadata": {},
     "output_type": "execute_result"
    }
   ],
   "source": [
    "pd.crosstab(df.Pclass,df.Survived,margins=True).style.background_gradient(cmap='summer_r')"
   ]
  },
  {
   "cell_type": "code",
   "execution_count": 8,
   "id": "67b20414",
   "metadata": {
    "execution": {
     "iopub.execute_input": "2025-06-17T07:09:59.179577Z",
     "iopub.status.busy": "2025-06-17T07:09:59.179097Z",
     "iopub.status.idle": "2025-06-17T07:09:59.190861Z",
     "shell.execute_reply": "2025-06-17T07:09:59.189995Z"
    },
    "papermill": {
     "duration": 0.021032,
     "end_time": "2025-06-17T07:09:59.192362",
     "exception": false,
     "start_time": "2025-06-17T07:09:59.171330",
     "status": "completed"
    },
    "tags": []
   },
   "outputs": [
    {
     "data": {
      "text/html": [
       "<div>\n",
       "<style scoped>\n",
       "    .dataframe tbody tr th:only-of-type {\n",
       "        vertical-align: middle;\n",
       "    }\n",
       "\n",
       "    .dataframe tbody tr th {\n",
       "        vertical-align: top;\n",
       "    }\n",
       "\n",
       "    .dataframe thead th {\n",
       "        text-align: right;\n",
       "    }\n",
       "</style>\n",
       "<table border=\"1\" class=\"dataframe\">\n",
       "  <thead>\n",
       "    <tr style=\"text-align: right;\">\n",
       "      <th></th>\n",
       "      <th>PassengerId</th>\n",
       "      <th>Survived</th>\n",
       "      <th>Pclass</th>\n",
       "      <th>Name</th>\n",
       "      <th>Sex</th>\n",
       "      <th>Age</th>\n",
       "      <th>SibSp</th>\n",
       "      <th>Parch</th>\n",
       "      <th>Ticket</th>\n",
       "      <th>Fare</th>\n",
       "      <th>Cabin</th>\n",
       "      <th>Embarked</th>\n",
       "    </tr>\n",
       "  </thead>\n",
       "  <tbody>\n",
       "    <tr>\n",
       "      <th>0</th>\n",
       "      <td>1</td>\n",
       "      <td>0</td>\n",
       "      <td>3</td>\n",
       "      <td>Braund, Mr. Owen Harris</td>\n",
       "      <td>male</td>\n",
       "      <td>22.0</td>\n",
       "      <td>1</td>\n",
       "      <td>0</td>\n",
       "      <td>A/5 21171</td>\n",
       "      <td>7.25</td>\n",
       "      <td>NaN</td>\n",
       "      <td>S</td>\n",
       "    </tr>\n",
       "  </tbody>\n",
       "</table>\n",
       "</div>"
      ],
      "text/plain": [
       "   PassengerId  Survived  Pclass                     Name   Sex   Age  SibSp  \\\n",
       "0            1         0       3  Braund, Mr. Owen Harris  male  22.0      1   \n",
       "\n",
       "   Parch     Ticket  Fare Cabin Embarked  \n",
       "0      0  A/5 21171  7.25   NaN        S  "
      ]
     },
     "execution_count": 8,
     "metadata": {},
     "output_type": "execute_result"
    }
   ],
   "source": [
    "df.head(1)"
   ]
  },
  {
   "cell_type": "code",
   "execution_count": 9,
   "id": "c2ff5a6c",
   "metadata": {
    "execution": {
     "iopub.execute_input": "2025-06-17T07:09:59.206593Z",
     "iopub.status.busy": "2025-06-17T07:09:59.206262Z",
     "iopub.status.idle": "2025-06-17T07:09:59.215352Z",
     "shell.execute_reply": "2025-06-17T07:09:59.214610Z"
    },
    "papermill": {
     "duration": 0.017782,
     "end_time": "2025-06-17T07:09:59.216818",
     "exception": false,
     "start_time": "2025-06-17T07:09:59.199036",
     "status": "completed"
    },
    "tags": []
   },
   "outputs": [
    {
     "data": {
      "text/plain": [
       "Cabin\n",
       "B96 B98        4\n",
       "G6             4\n",
       "C23 C25 C27    4\n",
       "C22 C26        3\n",
       "F33            3\n",
       "              ..\n",
       "E34            1\n",
       "C7             1\n",
       "C54            1\n",
       "E36            1\n",
       "C148           1\n",
       "Name: count, Length: 147, dtype: int64"
      ]
     },
     "execution_count": 9,
     "metadata": {},
     "output_type": "execute_result"
    }
   ],
   "source": [
    "df['Cabin'].value_counts()"
   ]
  },
  {
   "cell_type": "code",
   "execution_count": 10,
   "id": "ebea2a91",
   "metadata": {
    "execution": {
     "iopub.execute_input": "2025-06-17T07:09:59.229981Z",
     "iopub.status.busy": "2025-06-17T07:09:59.229660Z",
     "iopub.status.idle": "2025-06-17T07:09:59.235141Z",
     "shell.execute_reply": "2025-06-17T07:09:59.234391Z"
    },
    "papermill": {
     "duration": 0.013537,
     "end_time": "2025-06-17T07:09:59.236486",
     "exception": false,
     "start_time": "2025-06-17T07:09:59.222949",
     "status": "completed"
    },
    "tags": []
   },
   "outputs": [],
   "source": [
    "df['Has_cabin'] = df['Cabin'].apply(lambda x : 0 if type(x) == float else 1 )"
   ]
  },
  {
   "cell_type": "code",
   "execution_count": 11,
   "id": "2cc5714c",
   "metadata": {
    "execution": {
     "iopub.execute_input": "2025-06-17T07:09:59.249901Z",
     "iopub.status.busy": "2025-06-17T07:09:59.249592Z",
     "iopub.status.idle": "2025-06-17T07:09:59.262808Z",
     "shell.execute_reply": "2025-06-17T07:09:59.261942Z"
    },
    "papermill": {
     "duration": 0.021553,
     "end_time": "2025-06-17T07:09:59.264139",
     "exception": false,
     "start_time": "2025-06-17T07:09:59.242586",
     "status": "completed"
    },
    "tags": []
   },
   "outputs": [
    {
     "data": {
      "text/html": [
       "<div>\n",
       "<style scoped>\n",
       "    .dataframe tbody tr th:only-of-type {\n",
       "        vertical-align: middle;\n",
       "    }\n",
       "\n",
       "    .dataframe tbody tr th {\n",
       "        vertical-align: top;\n",
       "    }\n",
       "\n",
       "    .dataframe thead th {\n",
       "        text-align: right;\n",
       "    }\n",
       "</style>\n",
       "<table border=\"1\" class=\"dataframe\">\n",
       "  <thead>\n",
       "    <tr style=\"text-align: right;\">\n",
       "      <th></th>\n",
       "      <th>PassengerId</th>\n",
       "      <th>Survived</th>\n",
       "      <th>Pclass</th>\n",
       "      <th>Name</th>\n",
       "      <th>Sex</th>\n",
       "      <th>Age</th>\n",
       "      <th>SibSp</th>\n",
       "      <th>Parch</th>\n",
       "      <th>Ticket</th>\n",
       "      <th>Fare</th>\n",
       "      <th>Cabin</th>\n",
       "      <th>Embarked</th>\n",
       "      <th>Has_cabin</th>\n",
       "    </tr>\n",
       "  </thead>\n",
       "  <tbody>\n",
       "    <tr>\n",
       "      <th>0</th>\n",
       "      <td>1</td>\n",
       "      <td>0</td>\n",
       "      <td>3</td>\n",
       "      <td>Braund, Mr. Owen Harris</td>\n",
       "      <td>male</td>\n",
       "      <td>22.0</td>\n",
       "      <td>1</td>\n",
       "      <td>0</td>\n",
       "      <td>A/5 21171</td>\n",
       "      <td>7.2500</td>\n",
       "      <td>NaN</td>\n",
       "      <td>S</td>\n",
       "      <td>0</td>\n",
       "    </tr>\n",
       "    <tr>\n",
       "      <th>1</th>\n",
       "      <td>2</td>\n",
       "      <td>1</td>\n",
       "      <td>1</td>\n",
       "      <td>Cumings, Mrs. John Bradley (Florence Briggs Th...</td>\n",
       "      <td>female</td>\n",
       "      <td>38.0</td>\n",
       "      <td>1</td>\n",
       "      <td>0</td>\n",
       "      <td>PC 17599</td>\n",
       "      <td>71.2833</td>\n",
       "      <td>C85</td>\n",
       "      <td>C</td>\n",
       "      <td>1</td>\n",
       "    </tr>\n",
       "    <tr>\n",
       "      <th>2</th>\n",
       "      <td>3</td>\n",
       "      <td>1</td>\n",
       "      <td>3</td>\n",
       "      <td>Heikkinen, Miss. Laina</td>\n",
       "      <td>female</td>\n",
       "      <td>26.0</td>\n",
       "      <td>0</td>\n",
       "      <td>0</td>\n",
       "      <td>STON/O2. 3101282</td>\n",
       "      <td>7.9250</td>\n",
       "      <td>NaN</td>\n",
       "      <td>S</td>\n",
       "      <td>0</td>\n",
       "    </tr>\n",
       "    <tr>\n",
       "      <th>3</th>\n",
       "      <td>4</td>\n",
       "      <td>1</td>\n",
       "      <td>1</td>\n",
       "      <td>Futrelle, Mrs. Jacques Heath (Lily May Peel)</td>\n",
       "      <td>female</td>\n",
       "      <td>35.0</td>\n",
       "      <td>1</td>\n",
       "      <td>0</td>\n",
       "      <td>113803</td>\n",
       "      <td>53.1000</td>\n",
       "      <td>C123</td>\n",
       "      <td>S</td>\n",
       "      <td>1</td>\n",
       "    </tr>\n",
       "    <tr>\n",
       "      <th>4</th>\n",
       "      <td>5</td>\n",
       "      <td>0</td>\n",
       "      <td>3</td>\n",
       "      <td>Allen, Mr. William Henry</td>\n",
       "      <td>male</td>\n",
       "      <td>35.0</td>\n",
       "      <td>0</td>\n",
       "      <td>0</td>\n",
       "      <td>373450</td>\n",
       "      <td>8.0500</td>\n",
       "      <td>NaN</td>\n",
       "      <td>S</td>\n",
       "      <td>0</td>\n",
       "    </tr>\n",
       "  </tbody>\n",
       "</table>\n",
       "</div>"
      ],
      "text/plain": [
       "   PassengerId  Survived  Pclass  \\\n",
       "0            1         0       3   \n",
       "1            2         1       1   \n",
       "2            3         1       3   \n",
       "3            4         1       1   \n",
       "4            5         0       3   \n",
       "\n",
       "                                                Name     Sex   Age  SibSp  \\\n",
       "0                            Braund, Mr. Owen Harris    male  22.0      1   \n",
       "1  Cumings, Mrs. John Bradley (Florence Briggs Th...  female  38.0      1   \n",
       "2                             Heikkinen, Miss. Laina  female  26.0      0   \n",
       "3       Futrelle, Mrs. Jacques Heath (Lily May Peel)  female  35.0      1   \n",
       "4                           Allen, Mr. William Henry    male  35.0      0   \n",
       "\n",
       "   Parch            Ticket     Fare Cabin Embarked  Has_cabin  \n",
       "0      0         A/5 21171   7.2500   NaN        S          0  \n",
       "1      0          PC 17599  71.2833   C85        C          1  \n",
       "2      0  STON/O2. 3101282   7.9250   NaN        S          0  \n",
       "3      0            113803  53.1000  C123        S          1  \n",
       "4      0            373450   8.0500   NaN        S          0  "
      ]
     },
     "execution_count": 11,
     "metadata": {},
     "output_type": "execute_result"
    }
   ],
   "source": [
    "df.head(5)"
   ]
  },
  {
   "cell_type": "code",
   "execution_count": 12,
   "id": "48890f40",
   "metadata": {
    "execution": {
     "iopub.execute_input": "2025-06-17T07:09:59.277848Z",
     "iopub.status.busy": "2025-06-17T07:09:59.277518Z",
     "iopub.status.idle": "2025-06-17T07:09:59.281411Z",
     "shell.execute_reply": "2025-06-17T07:09:59.280636Z"
    },
    "papermill": {
     "duration": 0.012329,
     "end_time": "2025-06-17T07:09:59.282735",
     "exception": false,
     "start_time": "2025-06-17T07:09:59.270406",
     "status": "completed"
    },
    "tags": []
   },
   "outputs": [],
   "source": [
    "# for i in df['Cabin']:\n",
    "#     # print(i,type(i))\n",
    "#     if type(i) == float:\n",
    "#         print(i,type(i))\n",
    "#     else:\n",
    "#         print('not float')"
   ]
  },
  {
   "cell_type": "code",
   "execution_count": 13,
   "id": "e58d3aee",
   "metadata": {
    "execution": {
     "iopub.execute_input": "2025-06-17T07:09:59.297355Z",
     "iopub.status.busy": "2025-06-17T07:09:59.296452Z",
     "iopub.status.idle": "2025-06-17T07:09:59.307323Z",
     "shell.execute_reply": "2025-06-17T07:09:59.306481Z"
    },
    "papermill": {
     "duration": 0.019588,
     "end_time": "2025-06-17T07:09:59.308921",
     "exception": false,
     "start_time": "2025-06-17T07:09:59.289333",
     "status": "completed"
    },
    "tags": []
   },
   "outputs": [],
   "source": [
    "for i in df:\n",
    "    df['FamilySize'] = df['SibSp'] + df['Parch'] + 1"
   ]
  },
  {
   "cell_type": "code",
   "execution_count": 14,
   "id": "e5097a38",
   "metadata": {
    "execution": {
     "iopub.execute_input": "2025-06-17T07:09:59.323662Z",
     "iopub.status.busy": "2025-06-17T07:09:59.323301Z",
     "iopub.status.idle": "2025-06-17T07:09:59.330874Z",
     "shell.execute_reply": "2025-06-17T07:09:59.329816Z"
    },
    "papermill": {
     "duration": 0.017054,
     "end_time": "2025-06-17T07:09:59.332334",
     "exception": false,
     "start_time": "2025-06-17T07:09:59.315280",
     "status": "completed"
    },
    "tags": []
   },
   "outputs": [
    {
     "data": {
      "text/plain": [
       "FamilySize\n",
       "1     537\n",
       "2     161\n",
       "3     102\n",
       "4      29\n",
       "6      22\n",
       "5      15\n",
       "7      12\n",
       "11      7\n",
       "8       6\n",
       "Name: count, dtype: int64"
      ]
     },
     "execution_count": 14,
     "metadata": {},
     "output_type": "execute_result"
    }
   ],
   "source": [
    "df['FamilySize'].value_counts()"
   ]
  },
  {
   "cell_type": "code",
   "execution_count": 15,
   "id": "944eb63e",
   "metadata": {
    "execution": {
     "iopub.execute_input": "2025-06-17T07:09:59.346358Z",
     "iopub.status.busy": "2025-06-17T07:09:59.346074Z",
     "iopub.status.idle": "2025-06-17T07:09:59.360039Z",
     "shell.execute_reply": "2025-06-17T07:09:59.359153Z"
    },
    "papermill": {
     "duration": 0.022977,
     "end_time": "2025-06-17T07:09:59.361648",
     "exception": false,
     "start_time": "2025-06-17T07:09:59.338671",
     "status": "completed"
    },
    "tags": []
   },
   "outputs": [],
   "source": [
    "for i in df:\n",
    "    df['IsAlone'] = 0\n",
    "    df.loc[df['FamilySize']==1 ,'IsAlone'] = 1"
   ]
  },
  {
   "cell_type": "code",
   "execution_count": 16,
   "id": "e0f9ae8a",
   "metadata": {
    "execution": {
     "iopub.execute_input": "2025-06-17T07:09:59.375954Z",
     "iopub.status.busy": "2025-06-17T07:09:59.375643Z",
     "iopub.status.idle": "2025-06-17T07:09:59.388750Z",
     "shell.execute_reply": "2025-06-17T07:09:59.387858Z"
    },
    "papermill": {
     "duration": 0.02219,
     "end_time": "2025-06-17T07:09:59.390267",
     "exception": false,
     "start_time": "2025-06-17T07:09:59.368077",
     "status": "completed"
    },
    "tags": []
   },
   "outputs": [
    {
     "data": {
      "text/html": [
       "<div>\n",
       "<style scoped>\n",
       "    .dataframe tbody tr th:only-of-type {\n",
       "        vertical-align: middle;\n",
       "    }\n",
       "\n",
       "    .dataframe tbody tr th {\n",
       "        vertical-align: top;\n",
       "    }\n",
       "\n",
       "    .dataframe thead th {\n",
       "        text-align: right;\n",
       "    }\n",
       "</style>\n",
       "<table border=\"1\" class=\"dataframe\">\n",
       "  <thead>\n",
       "    <tr style=\"text-align: right;\">\n",
       "      <th></th>\n",
       "      <th>PassengerId</th>\n",
       "      <th>Survived</th>\n",
       "      <th>Pclass</th>\n",
       "      <th>Name</th>\n",
       "      <th>Sex</th>\n",
       "      <th>Age</th>\n",
       "      <th>SibSp</th>\n",
       "      <th>Parch</th>\n",
       "      <th>Ticket</th>\n",
       "      <th>Fare</th>\n",
       "      <th>Cabin</th>\n",
       "      <th>Embarked</th>\n",
       "      <th>Has_cabin</th>\n",
       "      <th>FamilySize</th>\n",
       "      <th>IsAlone</th>\n",
       "    </tr>\n",
       "  </thead>\n",
       "  <tbody>\n",
       "    <tr>\n",
       "      <th>0</th>\n",
       "      <td>1</td>\n",
       "      <td>0</td>\n",
       "      <td>3</td>\n",
       "      <td>Braund, Mr. Owen Harris</td>\n",
       "      <td>male</td>\n",
       "      <td>22.0</td>\n",
       "      <td>1</td>\n",
       "      <td>0</td>\n",
       "      <td>A/5 21171</td>\n",
       "      <td>7.2500</td>\n",
       "      <td>NaN</td>\n",
       "      <td>S</td>\n",
       "      <td>0</td>\n",
       "      <td>2</td>\n",
       "      <td>0</td>\n",
       "    </tr>\n",
       "    <tr>\n",
       "      <th>1</th>\n",
       "      <td>2</td>\n",
       "      <td>1</td>\n",
       "      <td>1</td>\n",
       "      <td>Cumings, Mrs. John Bradley (Florence Briggs Th...</td>\n",
       "      <td>female</td>\n",
       "      <td>38.0</td>\n",
       "      <td>1</td>\n",
       "      <td>0</td>\n",
       "      <td>PC 17599</td>\n",
       "      <td>71.2833</td>\n",
       "      <td>C85</td>\n",
       "      <td>C</td>\n",
       "      <td>1</td>\n",
       "      <td>2</td>\n",
       "      <td>0</td>\n",
       "    </tr>\n",
       "    <tr>\n",
       "      <th>2</th>\n",
       "      <td>3</td>\n",
       "      <td>1</td>\n",
       "      <td>3</td>\n",
       "      <td>Heikkinen, Miss. Laina</td>\n",
       "      <td>female</td>\n",
       "      <td>26.0</td>\n",
       "      <td>0</td>\n",
       "      <td>0</td>\n",
       "      <td>STON/O2. 3101282</td>\n",
       "      <td>7.9250</td>\n",
       "      <td>NaN</td>\n",
       "      <td>S</td>\n",
       "      <td>0</td>\n",
       "      <td>1</td>\n",
       "      <td>1</td>\n",
       "    </tr>\n",
       "  </tbody>\n",
       "</table>\n",
       "</div>"
      ],
      "text/plain": [
       "   PassengerId  Survived  Pclass  \\\n",
       "0            1         0       3   \n",
       "1            2         1       1   \n",
       "2            3         1       3   \n",
       "\n",
       "                                                Name     Sex   Age  SibSp  \\\n",
       "0                            Braund, Mr. Owen Harris    male  22.0      1   \n",
       "1  Cumings, Mrs. John Bradley (Florence Briggs Th...  female  38.0      1   \n",
       "2                             Heikkinen, Miss. Laina  female  26.0      0   \n",
       "\n",
       "   Parch            Ticket     Fare Cabin Embarked  Has_cabin  FamilySize  \\\n",
       "0      0         A/5 21171   7.2500   NaN        S          0           2   \n",
       "1      0          PC 17599  71.2833   C85        C          1           2   \n",
       "2      0  STON/O2. 3101282   7.9250   NaN        S          0           1   \n",
       "\n",
       "   IsAlone  \n",
       "0        0  \n",
       "1        0  \n",
       "2        1  "
      ]
     },
     "execution_count": 16,
     "metadata": {},
     "output_type": "execute_result"
    }
   ],
   "source": [
    "df.head(3)"
   ]
  },
  {
   "cell_type": "code",
   "execution_count": 17,
   "id": "1055e241",
   "metadata": {
    "execution": {
     "iopub.execute_input": "2025-06-17T07:09:59.405248Z",
     "iopub.status.busy": "2025-06-17T07:09:59.404931Z",
     "iopub.status.idle": "2025-06-17T07:09:59.420634Z",
     "shell.execute_reply": "2025-06-17T07:09:59.419756Z"
    },
    "papermill": {
     "duration": 0.025244,
     "end_time": "2025-06-17T07:09:59.422223",
     "exception": false,
     "start_time": "2025-06-17T07:09:59.396979",
     "status": "completed"
    },
    "tags": []
   },
   "outputs": [],
   "source": [
    "for i in df:\n",
    "    df['Embarked'] = df['Embarked'].fillna('S')\n",
    "    df['Fare'] = df['Fare'].fillna(df['Fare'].median())\n",
    "    "
   ]
  },
  {
   "cell_type": "code",
   "execution_count": 18,
   "id": "cf5a5564",
   "metadata": {
    "execution": {
     "iopub.execute_input": "2025-06-17T07:09:59.436547Z",
     "iopub.status.busy": "2025-06-17T07:09:59.436180Z",
     "iopub.status.idle": "2025-06-17T07:09:59.440115Z",
     "shell.execute_reply": "2025-06-17T07:09:59.439309Z"
    },
    "papermill": {
     "duration": 0.012858,
     "end_time": "2025-06-17T07:09:59.441560",
     "exception": false,
     "start_time": "2025-06-17T07:09:59.428702",
     "status": "completed"
    },
    "tags": []
   },
   "outputs": [],
   "source": [
    "# df.drop(columns=['Title'],axis = 1 , inplace=True)"
   ]
  },
  {
   "cell_type": "code",
   "execution_count": 19,
   "id": "70e5a731",
   "metadata": {
    "execution": {
     "iopub.execute_input": "2025-06-17T07:09:59.456594Z",
     "iopub.status.busy": "2025-06-17T07:09:59.456256Z",
     "iopub.status.idle": "2025-06-17T07:09:59.497191Z",
     "shell.execute_reply": "2025-06-17T07:09:59.496250Z"
    },
    "papermill": {
     "duration": 0.049901,
     "end_time": "2025-06-17T07:09:59.498812",
     "exception": false,
     "start_time": "2025-06-17T07:09:59.448911",
     "status": "completed"
    },
    "tags": []
   },
   "outputs": [],
   "source": [
    "df['Title_initial']  = 0\n",
    "for i in df:\n",
    "    df['Title_initial'] = df.Name.str.extract('([A-Za-z]+)\\.')"
   ]
  },
  {
   "cell_type": "code",
   "execution_count": 20,
   "id": "c50bf56a",
   "metadata": {
    "execution": {
     "iopub.execute_input": "2025-06-17T07:09:59.513175Z",
     "iopub.status.busy": "2025-06-17T07:09:59.512679Z",
     "iopub.status.idle": "2025-06-17T07:09:59.526357Z",
     "shell.execute_reply": "2025-06-17T07:09:59.525598Z"
    },
    "papermill": {
     "duration": 0.022448,
     "end_time": "2025-06-17T07:09:59.527785",
     "exception": false,
     "start_time": "2025-06-17T07:09:59.505337",
     "status": "completed"
    },
    "tags": []
   },
   "outputs": [
    {
     "data": {
      "text/html": [
       "<div>\n",
       "<style scoped>\n",
       "    .dataframe tbody tr th:only-of-type {\n",
       "        vertical-align: middle;\n",
       "    }\n",
       "\n",
       "    .dataframe tbody tr th {\n",
       "        vertical-align: top;\n",
       "    }\n",
       "\n",
       "    .dataframe thead th {\n",
       "        text-align: right;\n",
       "    }\n",
       "</style>\n",
       "<table border=\"1\" class=\"dataframe\">\n",
       "  <thead>\n",
       "    <tr style=\"text-align: right;\">\n",
       "      <th></th>\n",
       "      <th>PassengerId</th>\n",
       "      <th>Survived</th>\n",
       "      <th>Pclass</th>\n",
       "      <th>Name</th>\n",
       "      <th>Sex</th>\n",
       "      <th>Age</th>\n",
       "      <th>SibSp</th>\n",
       "      <th>Parch</th>\n",
       "      <th>Ticket</th>\n",
       "      <th>Fare</th>\n",
       "      <th>Cabin</th>\n",
       "      <th>Embarked</th>\n",
       "      <th>Has_cabin</th>\n",
       "      <th>FamilySize</th>\n",
       "      <th>IsAlone</th>\n",
       "      <th>Title_initial</th>\n",
       "    </tr>\n",
       "  </thead>\n",
       "  <tbody>\n",
       "    <tr>\n",
       "      <th>0</th>\n",
       "      <td>1</td>\n",
       "      <td>0</td>\n",
       "      <td>3</td>\n",
       "      <td>Braund, Mr. Owen Harris</td>\n",
       "      <td>male</td>\n",
       "      <td>22.0</td>\n",
       "      <td>1</td>\n",
       "      <td>0</td>\n",
       "      <td>A/5 21171</td>\n",
       "      <td>7.2500</td>\n",
       "      <td>NaN</td>\n",
       "      <td>S</td>\n",
       "      <td>0</td>\n",
       "      <td>2</td>\n",
       "      <td>0</td>\n",
       "      <td>Mr</td>\n",
       "    </tr>\n",
       "    <tr>\n",
       "      <th>1</th>\n",
       "      <td>2</td>\n",
       "      <td>1</td>\n",
       "      <td>1</td>\n",
       "      <td>Cumings, Mrs. John Bradley (Florence Briggs Th...</td>\n",
       "      <td>female</td>\n",
       "      <td>38.0</td>\n",
       "      <td>1</td>\n",
       "      <td>0</td>\n",
       "      <td>PC 17599</td>\n",
       "      <td>71.2833</td>\n",
       "      <td>C85</td>\n",
       "      <td>C</td>\n",
       "      <td>1</td>\n",
       "      <td>2</td>\n",
       "      <td>0</td>\n",
       "      <td>Mrs</td>\n",
       "    </tr>\n",
       "    <tr>\n",
       "      <th>2</th>\n",
       "      <td>3</td>\n",
       "      <td>1</td>\n",
       "      <td>3</td>\n",
       "      <td>Heikkinen, Miss. Laina</td>\n",
       "      <td>female</td>\n",
       "      <td>26.0</td>\n",
       "      <td>0</td>\n",
       "      <td>0</td>\n",
       "      <td>STON/O2. 3101282</td>\n",
       "      <td>7.9250</td>\n",
       "      <td>NaN</td>\n",
       "      <td>S</td>\n",
       "      <td>0</td>\n",
       "      <td>1</td>\n",
       "      <td>1</td>\n",
       "      <td>Miss</td>\n",
       "    </tr>\n",
       "  </tbody>\n",
       "</table>\n",
       "</div>"
      ],
      "text/plain": [
       "   PassengerId  Survived  Pclass  \\\n",
       "0            1         0       3   \n",
       "1            2         1       1   \n",
       "2            3         1       3   \n",
       "\n",
       "                                                Name     Sex   Age  SibSp  \\\n",
       "0                            Braund, Mr. Owen Harris    male  22.0      1   \n",
       "1  Cumings, Mrs. John Bradley (Florence Briggs Th...  female  38.0      1   \n",
       "2                             Heikkinen, Miss. Laina  female  26.0      0   \n",
       "\n",
       "   Parch            Ticket     Fare Cabin Embarked  Has_cabin  FamilySize  \\\n",
       "0      0         A/5 21171   7.2500   NaN        S          0           2   \n",
       "1      0          PC 17599  71.2833   C85        C          1           2   \n",
       "2      0  STON/O2. 3101282   7.9250   NaN        S          0           1   \n",
       "\n",
       "   IsAlone Title_initial  \n",
       "0        0            Mr  \n",
       "1        0           Mrs  \n",
       "2        1          Miss  "
      ]
     },
     "execution_count": 20,
     "metadata": {},
     "output_type": "execute_result"
    }
   ],
   "source": [
    "df.head(3)"
   ]
  },
  {
   "cell_type": "code",
   "execution_count": 21,
   "id": "23385970",
   "metadata": {
    "execution": {
     "iopub.execute_input": "2025-06-17T07:09:59.542627Z",
     "iopub.status.busy": "2025-06-17T07:09:59.542140Z",
     "iopub.status.idle": "2025-06-17T07:09:59.577257Z",
     "shell.execute_reply": "2025-06-17T07:09:59.576083Z"
    },
    "papermill": {
     "duration": 0.044338,
     "end_time": "2025-06-17T07:09:59.578947",
     "exception": false,
     "start_time": "2025-06-17T07:09:59.534609",
     "status": "completed"
    },
    "tags": []
   },
   "outputs": [
    {
     "data": {
      "text/html": [
       "<style type=\"text/css\">\n",
       "#T_a4da0_row0_col0, #T_a4da0_row0_col1, #T_a4da0_row0_col3, #T_a4da0_row0_col4, #T_a4da0_row0_col5, #T_a4da0_row0_col7, #T_a4da0_row0_col8, #T_a4da0_row0_col12, #T_a4da0_row0_col15, #T_a4da0_row0_col16, #T_a4da0_row1_col2, #T_a4da0_row1_col6, #T_a4da0_row1_col9, #T_a4da0_row1_col10, #T_a4da0_row1_col11, #T_a4da0_row1_col13, #T_a4da0_row1_col14 {\n",
       "  background-color: #ffffcc;\n",
       "  color: #000000;\n",
       "}\n",
       "#T_a4da0_row0_col2, #T_a4da0_row0_col6, #T_a4da0_row0_col9, #T_a4da0_row0_col10, #T_a4da0_row0_col11, #T_a4da0_row0_col13, #T_a4da0_row0_col14, #T_a4da0_row1_col0, #T_a4da0_row1_col1, #T_a4da0_row1_col3, #T_a4da0_row1_col4, #T_a4da0_row1_col5, #T_a4da0_row1_col7, #T_a4da0_row1_col8, #T_a4da0_row1_col12, #T_a4da0_row1_col15, #T_a4da0_row1_col16 {\n",
       "  background-color: #800026;\n",
       "  color: #f1f1f1;\n",
       "}\n",
       "</style>\n",
       "<table id=\"T_a4da0\">\n",
       "  <thead>\n",
       "    <tr>\n",
       "      <th class=\"index_name level0\" >Title_initial</th>\n",
       "      <th id=\"T_a4da0_level0_col0\" class=\"col_heading level0 col0\" >Capt</th>\n",
       "      <th id=\"T_a4da0_level0_col1\" class=\"col_heading level0 col1\" >Col</th>\n",
       "      <th id=\"T_a4da0_level0_col2\" class=\"col_heading level0 col2\" >Countess</th>\n",
       "      <th id=\"T_a4da0_level0_col3\" class=\"col_heading level0 col3\" >Don</th>\n",
       "      <th id=\"T_a4da0_level0_col4\" class=\"col_heading level0 col4\" >Dr</th>\n",
       "      <th id=\"T_a4da0_level0_col5\" class=\"col_heading level0 col5\" >Jonkheer</th>\n",
       "      <th id=\"T_a4da0_level0_col6\" class=\"col_heading level0 col6\" >Lady</th>\n",
       "      <th id=\"T_a4da0_level0_col7\" class=\"col_heading level0 col7\" >Major</th>\n",
       "      <th id=\"T_a4da0_level0_col8\" class=\"col_heading level0 col8\" >Master</th>\n",
       "      <th id=\"T_a4da0_level0_col9\" class=\"col_heading level0 col9\" >Miss</th>\n",
       "      <th id=\"T_a4da0_level0_col10\" class=\"col_heading level0 col10\" >Mlle</th>\n",
       "      <th id=\"T_a4da0_level0_col11\" class=\"col_heading level0 col11\" >Mme</th>\n",
       "      <th id=\"T_a4da0_level0_col12\" class=\"col_heading level0 col12\" >Mr</th>\n",
       "      <th id=\"T_a4da0_level0_col13\" class=\"col_heading level0 col13\" >Mrs</th>\n",
       "      <th id=\"T_a4da0_level0_col14\" class=\"col_heading level0 col14\" >Ms</th>\n",
       "      <th id=\"T_a4da0_level0_col15\" class=\"col_heading level0 col15\" >Rev</th>\n",
       "      <th id=\"T_a4da0_level0_col16\" class=\"col_heading level0 col16\" >Sir</th>\n",
       "    </tr>\n",
       "    <tr>\n",
       "      <th class=\"index_name level0\" >Sex</th>\n",
       "      <th class=\"blank col0\" >&nbsp;</th>\n",
       "      <th class=\"blank col1\" >&nbsp;</th>\n",
       "      <th class=\"blank col2\" >&nbsp;</th>\n",
       "      <th class=\"blank col3\" >&nbsp;</th>\n",
       "      <th class=\"blank col4\" >&nbsp;</th>\n",
       "      <th class=\"blank col5\" >&nbsp;</th>\n",
       "      <th class=\"blank col6\" >&nbsp;</th>\n",
       "      <th class=\"blank col7\" >&nbsp;</th>\n",
       "      <th class=\"blank col8\" >&nbsp;</th>\n",
       "      <th class=\"blank col9\" >&nbsp;</th>\n",
       "      <th class=\"blank col10\" >&nbsp;</th>\n",
       "      <th class=\"blank col11\" >&nbsp;</th>\n",
       "      <th class=\"blank col12\" >&nbsp;</th>\n",
       "      <th class=\"blank col13\" >&nbsp;</th>\n",
       "      <th class=\"blank col14\" >&nbsp;</th>\n",
       "      <th class=\"blank col15\" >&nbsp;</th>\n",
       "      <th class=\"blank col16\" >&nbsp;</th>\n",
       "    </tr>\n",
       "  </thead>\n",
       "  <tbody>\n",
       "    <tr>\n",
       "      <th id=\"T_a4da0_level0_row0\" class=\"row_heading level0 row0\" >female</th>\n",
       "      <td id=\"T_a4da0_row0_col0\" class=\"data row0 col0\" >0</td>\n",
       "      <td id=\"T_a4da0_row0_col1\" class=\"data row0 col1\" >0</td>\n",
       "      <td id=\"T_a4da0_row0_col2\" class=\"data row0 col2\" >1</td>\n",
       "      <td id=\"T_a4da0_row0_col3\" class=\"data row0 col3\" >0</td>\n",
       "      <td id=\"T_a4da0_row0_col4\" class=\"data row0 col4\" >1</td>\n",
       "      <td id=\"T_a4da0_row0_col5\" class=\"data row0 col5\" >0</td>\n",
       "      <td id=\"T_a4da0_row0_col6\" class=\"data row0 col6\" >1</td>\n",
       "      <td id=\"T_a4da0_row0_col7\" class=\"data row0 col7\" >0</td>\n",
       "      <td id=\"T_a4da0_row0_col8\" class=\"data row0 col8\" >0</td>\n",
       "      <td id=\"T_a4da0_row0_col9\" class=\"data row0 col9\" >182</td>\n",
       "      <td id=\"T_a4da0_row0_col10\" class=\"data row0 col10\" >2</td>\n",
       "      <td id=\"T_a4da0_row0_col11\" class=\"data row0 col11\" >1</td>\n",
       "      <td id=\"T_a4da0_row0_col12\" class=\"data row0 col12\" >0</td>\n",
       "      <td id=\"T_a4da0_row0_col13\" class=\"data row0 col13\" >125</td>\n",
       "      <td id=\"T_a4da0_row0_col14\" class=\"data row0 col14\" >1</td>\n",
       "      <td id=\"T_a4da0_row0_col15\" class=\"data row0 col15\" >0</td>\n",
       "      <td id=\"T_a4da0_row0_col16\" class=\"data row0 col16\" >0</td>\n",
       "    </tr>\n",
       "    <tr>\n",
       "      <th id=\"T_a4da0_level0_row1\" class=\"row_heading level0 row1\" >male</th>\n",
       "      <td id=\"T_a4da0_row1_col0\" class=\"data row1 col0\" >1</td>\n",
       "      <td id=\"T_a4da0_row1_col1\" class=\"data row1 col1\" >2</td>\n",
       "      <td id=\"T_a4da0_row1_col2\" class=\"data row1 col2\" >0</td>\n",
       "      <td id=\"T_a4da0_row1_col3\" class=\"data row1 col3\" >1</td>\n",
       "      <td id=\"T_a4da0_row1_col4\" class=\"data row1 col4\" >6</td>\n",
       "      <td id=\"T_a4da0_row1_col5\" class=\"data row1 col5\" >1</td>\n",
       "      <td id=\"T_a4da0_row1_col6\" class=\"data row1 col6\" >0</td>\n",
       "      <td id=\"T_a4da0_row1_col7\" class=\"data row1 col7\" >2</td>\n",
       "      <td id=\"T_a4da0_row1_col8\" class=\"data row1 col8\" >40</td>\n",
       "      <td id=\"T_a4da0_row1_col9\" class=\"data row1 col9\" >0</td>\n",
       "      <td id=\"T_a4da0_row1_col10\" class=\"data row1 col10\" >0</td>\n",
       "      <td id=\"T_a4da0_row1_col11\" class=\"data row1 col11\" >0</td>\n",
       "      <td id=\"T_a4da0_row1_col12\" class=\"data row1 col12\" >517</td>\n",
       "      <td id=\"T_a4da0_row1_col13\" class=\"data row1 col13\" >0</td>\n",
       "      <td id=\"T_a4da0_row1_col14\" class=\"data row1 col14\" >0</td>\n",
       "      <td id=\"T_a4da0_row1_col15\" class=\"data row1 col15\" >6</td>\n",
       "      <td id=\"T_a4da0_row1_col16\" class=\"data row1 col16\" >1</td>\n",
       "    </tr>\n",
       "  </tbody>\n",
       "</table>\n"
      ],
      "text/plain": [
       "<pandas.io.formats.style.Styler at 0x7c48ffa24590>"
      ]
     },
     "execution_count": 21,
     "metadata": {},
     "output_type": "execute_result"
    }
   ],
   "source": [
    "pd.crosstab(df.Title_initial,df.Sex).T.style.background_gradient(cmap='YlOrRd')"
   ]
  },
  {
   "cell_type": "code",
   "execution_count": 22,
   "id": "7595ad3d",
   "metadata": {
    "execution": {
     "iopub.execute_input": "2025-06-17T07:09:59.594029Z",
     "iopub.status.busy": "2025-06-17T07:09:59.593737Z",
     "iopub.status.idle": "2025-06-17T07:09:59.597803Z",
     "shell.execute_reply": "2025-06-17T07:09:59.596878Z"
    },
    "papermill": {
     "duration": 0.013184,
     "end_time": "2025-06-17T07:09:59.599322",
     "exception": false,
     "start_time": "2025-06-17T07:09:59.586138",
     "status": "completed"
    },
    "tags": []
   },
   "outputs": [],
   "source": [
    "#df['Title_initial'].value_counts().index.to_list()  "
   ]
  },
  {
   "cell_type": "code",
   "execution_count": 23,
   "id": "d7d37d4d",
   "metadata": {
    "execution": {
     "iopub.execute_input": "2025-06-17T07:09:59.615222Z",
     "iopub.status.busy": "2025-06-17T07:09:59.614157Z",
     "iopub.status.idle": "2025-06-17T07:09:59.621877Z",
     "shell.execute_reply": "2025-06-17T07:09:59.620954Z"
    },
    "papermill": {
     "duration": 0.016941,
     "end_time": "2025-06-17T07:09:59.623442",
     "exception": false,
     "start_time": "2025-06-17T07:09:59.606501",
     "status": "completed"
    },
    "tags": []
   },
   "outputs": [
    {
     "name": "stderr",
     "output_type": "stream",
     "text": [
      "/tmp/ipykernel_13/497961666.py:1: FutureWarning: A value is trying to be set on a copy of a DataFrame or Series through chained assignment using an inplace method.\n",
      "The behavior will change in pandas 3.0. This inplace method will never work because the intermediate object on which we are setting values always behaves as a copy.\n",
      "\n",
      "For example, when doing 'df[col].method(value, inplace=True)', try using 'df.method({col: value}, inplace=True)' or df[col] = df[col].method(value) instead, to perform the operation inplace on the original object.\n",
      "\n",
      "\n",
      "  df['Title_initial'].replace(['Mlle','Mme','Ms','Dr','Major','Lady','Countess','Jonkheer','Col','Rev','Capt','Sir','Don'],\n"
     ]
    }
   ],
   "source": [
    "df['Title_initial'].replace(['Mlle','Mme','Ms','Dr','Major','Lady','Countess','Jonkheer','Col','Rev','Capt','Sir','Don'],\n",
    "                        ['Miss','Miss','Miss','Mr','Mr','Mrs','Mrs','Other','Other','Other','Mr','Mr','Mr'],\n",
    "                        inplace=True)"
   ]
  },
  {
   "cell_type": "code",
   "execution_count": 24,
   "id": "e08da268",
   "metadata": {
    "execution": {
     "iopub.execute_input": "2025-06-17T07:09:59.638882Z",
     "iopub.status.busy": "2025-06-17T07:09:59.638589Z",
     "iopub.status.idle": "2025-06-17T07:09:59.646893Z",
     "shell.execute_reply": "2025-06-17T07:09:59.645961Z"
    },
    "papermill": {
     "duration": 0.018059,
     "end_time": "2025-06-17T07:09:59.648564",
     "exception": false,
     "start_time": "2025-06-17T07:09:59.630505",
     "status": "completed"
    },
    "tags": []
   },
   "outputs": [
    {
     "data": {
      "text/plain": [
       "Title_initial\n",
       "Mr        59.37\n",
       "Miss      20.88\n",
       "Mrs       14.25\n",
       "Master     4.49\n",
       "Other      1.01\n",
       "Name: count, dtype: float64"
      ]
     },
     "execution_count": 24,
     "metadata": {},
     "output_type": "execute_result"
    }
   ],
   "source": [
    "round((df.Title_initial.value_counts()/len(df.Title_initial))*100,2)"
   ]
  },
  {
   "cell_type": "code",
   "execution_count": 25,
   "id": "f0f770ee",
   "metadata": {
    "execution": {
     "iopub.execute_input": "2025-06-17T07:09:59.663970Z",
     "iopub.status.busy": "2025-06-17T07:09:59.663673Z",
     "iopub.status.idle": "2025-06-17T07:09:59.672823Z",
     "shell.execute_reply": "2025-06-17T07:09:59.671912Z"
    },
    "papermill": {
     "duration": 0.018307,
     "end_time": "2025-06-17T07:09:59.674185",
     "exception": false,
     "start_time": "2025-06-17T07:09:59.655878",
     "status": "completed"
    },
    "tags": []
   },
   "outputs": [
    {
     "data": {
      "text/plain": [
       "Title_initial\n",
       "Master     4.574167\n",
       "Miss      21.860000\n",
       "Mr        32.739609\n",
       "Mrs       35.981818\n",
       "Other     45.888889\n",
       "Name: Age, dtype: float64"
      ]
     },
     "execution_count": 25,
     "metadata": {},
     "output_type": "execute_result"
    }
   ],
   "source": [
    "df.groupby('Title_initial')['Age'].mean()"
   ]
  },
  {
   "cell_type": "code",
   "execution_count": 26,
   "id": "cf4cf909",
   "metadata": {
    "execution": {
     "iopub.execute_input": "2025-06-17T07:09:59.690326Z",
     "iopub.status.busy": "2025-06-17T07:09:59.690012Z",
     "iopub.status.idle": "2025-06-17T07:09:59.699503Z",
     "shell.execute_reply": "2025-06-17T07:09:59.698472Z"
    },
    "papermill": {
     "duration": 0.019192,
     "end_time": "2025-06-17T07:09:59.701129",
     "exception": false,
     "start_time": "2025-06-17T07:09:59.681937",
     "status": "completed"
    },
    "tags": []
   },
   "outputs": [
    {
     "name": "stderr",
     "output_type": "stream",
     "text": [
      "/usr/local/lib/python3.11/dist-packages/pandas/io/formats/format.py:1458: RuntimeWarning: invalid value encountered in greater\n",
      "  has_large_values = (abs_vals > 1e6).any()\n",
      "/usr/local/lib/python3.11/dist-packages/pandas/io/formats/format.py:1459: RuntimeWarning: invalid value encountered in less\n",
      "  has_small_values = ((abs_vals < 10 ** (-self.digits)) & (abs_vals > 0)).any()\n",
      "/usr/local/lib/python3.11/dist-packages/pandas/io/formats/format.py:1459: RuntimeWarning: invalid value encountered in greater\n",
      "  has_small_values = ((abs_vals < 10 ** (-self.digits)) & (abs_vals > 0)).any()\n"
     ]
    },
    {
     "data": {
      "text/plain": [
       "5    NaN\n",
       "17   NaN\n",
       "Name: Age, dtype: float64"
      ]
     },
     "execution_count": 26,
     "metadata": {},
     "output_type": "execute_result"
    }
   ],
   "source": [
    "df.loc[df.Age.isnull(),'Age'].head(2)"
   ]
  },
  {
   "cell_type": "code",
   "execution_count": 27,
   "id": "5ebc2a21",
   "metadata": {
    "execution": {
     "iopub.execute_input": "2025-06-17T07:09:59.717401Z",
     "iopub.status.busy": "2025-06-17T07:09:59.717079Z",
     "iopub.status.idle": "2025-06-17T07:09:59.728931Z",
     "shell.execute_reply": "2025-06-17T07:09:59.727838Z"
    },
    "papermill": {
     "duration": 0.021623,
     "end_time": "2025-06-17T07:09:59.730462",
     "exception": false,
     "start_time": "2025-06-17T07:09:59.708839",
     "status": "completed"
    },
    "tags": []
   },
   "outputs": [],
   "source": [
    "df.loc[(df.Title_initial=='Mr')&(df.Age.isnull()),'Age'] = 33\n",
    "df.loc[(df.Title_initial=='Mrs')&(df.Age.isnull()),'Age'] = 35\n",
    "df.loc[(df.Title_initial=='Master')&(df.Age.isnull()),'Age'] = 4\n",
    "df.loc[(df.Title_initial=='Miss')&(df.Age.isnull()),'Age'] = 21\n",
    "df.loc[(df.Title_initial=='Other')&(df.Age.isnull()),'Age'] = 45\n",
    "\n"
   ]
  },
  {
   "cell_type": "code",
   "execution_count": 28,
   "id": "c601c0cd",
   "metadata": {
    "execution": {
     "iopub.execute_input": "2025-06-17T07:09:59.746879Z",
     "iopub.status.busy": "2025-06-17T07:09:59.746540Z",
     "iopub.status.idle": "2025-06-17T07:09:59.755122Z",
     "shell.execute_reply": "2025-06-17T07:09:59.754036Z"
    },
    "papermill": {
     "duration": 0.018766,
     "end_time": "2025-06-17T07:09:59.756779",
     "exception": false,
     "start_time": "2025-06-17T07:09:59.738013",
     "status": "completed"
    },
    "tags": []
   },
   "outputs": [
    {
     "data": {
      "text/plain": [
       "Title_initial\n",
       "Master     4.516750\n",
       "Miss      21.693548\n",
       "Mr        32.798677\n",
       "Mrs       35.850394\n",
       "Other     45.888889\n",
       "Name: Age, dtype: float64"
      ]
     },
     "execution_count": 28,
     "metadata": {},
     "output_type": "execute_result"
    }
   ],
   "source": [
    " df.groupby('Title_initial')['Age'].mean()"
   ]
  },
  {
   "cell_type": "code",
   "execution_count": 29,
   "id": "9ef25bca",
   "metadata": {
    "execution": {
     "iopub.execute_input": "2025-06-17T07:09:59.773410Z",
     "iopub.status.busy": "2025-06-17T07:09:59.773121Z",
     "iopub.status.idle": "2025-06-17T07:09:59.779915Z",
     "shell.execute_reply": "2025-06-17T07:09:59.779042Z"
    },
    "papermill": {
     "duration": 0.016866,
     "end_time": "2025-06-17T07:09:59.781683",
     "exception": false,
     "start_time": "2025-06-17T07:09:59.764817",
     "status": "completed"
    },
    "tags": []
   },
   "outputs": [
    {
     "data": {
      "text/plain": [
       "(False, 0)"
      ]
     },
     "execution_count": 29,
     "metadata": {},
     "output_type": "execute_result"
    }
   ],
   "source": [
    "df.Age.isnull().any() , df.Age.isnull().sum()"
   ]
  },
  {
   "cell_type": "code",
   "execution_count": null,
   "id": "f3a84fb5",
   "metadata": {
    "papermill": {
     "duration": 0.006962,
     "end_time": "2025-06-17T07:09:59.796099",
     "exception": false,
     "start_time": "2025-06-17T07:09:59.789137",
     "status": "completed"
    },
    "tags": []
   },
   "outputs": [],
   "source": [
    " "
   ]
  },
  {
   "cell_type": "code",
   "execution_count": null,
   "id": "70092d5f",
   "metadata": {
    "papermill": {
     "duration": 0.007169,
     "end_time": "2025-06-17T07:09:59.810710",
     "exception": false,
     "start_time": "2025-06-17T07:09:59.803541",
     "status": "completed"
    },
    "tags": []
   },
   "outputs": [],
   "source": []
  }
 ],
 "metadata": {
  "kaggle": {
   "accelerator": "none",
   "dataSources": [
    {
     "datasetId": 826163,
     "sourceId": 2879186,
     "sourceType": "datasetVersion"
    },
    {
     "datasetId": 1818188,
     "sourceId": 2965537,
     "sourceType": "datasetVersion"
    }
   ],
   "dockerImageVersionId": 31040,
   "isGpuEnabled": false,
   "isInternetEnabled": false,
   "language": "python",
   "sourceType": "notebook"
  },
  "kernelspec": {
   "display_name": "Python 3",
   "language": "python",
   "name": "python3"
  },
  "language_info": {
   "codemirror_mode": {
    "name": "ipython",
    "version": 3
   },
   "file_extension": ".py",
   "mimetype": "text/x-python",
   "name": "python",
   "nbconvert_exporter": "python",
   "pygments_lexer": "ipython3",
   "version": "3.11.11"
  },
  "papermill": {
   "default_parameters": {},
   "duration": 10.976427,
   "end_time": "2025-06-17T07:10:00.540508",
   "environment_variables": {},
   "exception": null,
   "input_path": "__notebook__.ipynb",
   "output_path": "__notebook__.ipynb",
   "parameters": {},
   "start_time": "2025-06-17T07:09:49.564081",
   "version": "2.6.0"
  }
 },
 "nbformat": 4,
 "nbformat_minor": 5
}
