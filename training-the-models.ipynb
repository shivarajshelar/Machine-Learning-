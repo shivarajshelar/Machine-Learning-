{
 "cells": [
  {
   "cell_type": "code",
   "execution_count": 1,
   "id": "4dcf4ff9",
   "metadata": {
    "_cell_guid": "b1076dfc-b9ad-4769-8c92-a6c4dae69d19",
    "_uuid": "8f2839f25d086af736a60e9eeb907d3b93b6e0e5",
    "execution": {
     "iopub.execute_input": "2025-06-08T02:10:10.713289Z",
     "iopub.status.busy": "2025-06-08T02:10:10.712974Z",
     "iopub.status.idle": "2025-06-08T02:10:14.793550Z",
     "shell.execute_reply": "2025-06-08T02:10:14.792608Z"
    },
    "papermill": {
     "duration": 4.094194,
     "end_time": "2025-06-08T02:10:14.795509",
     "exception": false,
     "start_time": "2025-06-08T02:10:10.701315",
     "status": "completed"
    },
    "tags": []
   },
   "outputs": [],
   "source": [
    "# This Python 3 environment comes with many helpful analytics libraries installed\n",
    "# It is defined by the kaggle/python Docker image: https://github.com/kaggle/docker-python\n",
    "# For example, here's several helpful packages to load\n",
    "\n",
    "import numpy as np # linear algebra\n",
    "import pandas as pd # data processing, CSV file I/O (e.g. pd.read_csv)\n",
    "import seaborn as sns\n",
    "import matplotlib.pyplot as plt \n",
    "\n",
    "# Input data files are available in the read-only \"../input/\" directory\n",
    "# For example, running this (by clicking run or pressing Shift+Enter) will list all files under the input directory\n",
    "\n",
    "import os\n",
    "for dirname, _, filenames in os.walk('/kaggle/input'):\n",
    "    for filename in filenames:\n",
    "        print(os.path.join(dirname, filename))\n",
    "\n",
    "# You can write up to 20GB to the current directory (/kaggle/working/) that gets preserved as output when you create a version using \"Save & Run All\" \n",
    "# You can also write temporary files to /kaggle/temp/, but they won't be saved outside of the current session"
   ]
  },
  {
   "cell_type": "code",
   "execution_count": 2,
   "id": "aaae6569",
   "metadata": {
    "execution": {
     "iopub.execute_input": "2025-06-08T02:10:14.816609Z",
     "iopub.status.busy": "2025-06-08T02:10:14.816201Z",
     "iopub.status.idle": "2025-06-08T02:10:14.821498Z",
     "shell.execute_reply": "2025-06-08T02:10:14.820685Z"
    },
    "papermill": {
     "duration": 0.017411,
     "end_time": "2025-06-08T02:10:14.822957",
     "exception": false,
     "start_time": "2025-06-08T02:10:14.805546",
     "status": "completed"
    },
    "tags": []
   },
   "outputs": [],
   "source": [
    "np.random.seed(42)\n",
    "m = 100 \n",
    "X = 2*np.random.rand(m,1)\n",
    "y = 4 + 3*X + np.random.randn(m,1)"
   ]
  },
  {
   "cell_type": "code",
   "execution_count": 3,
   "id": "e90bcf9e",
   "metadata": {
    "execution": {
     "iopub.execute_input": "2025-06-08T02:10:14.842304Z",
     "iopub.status.busy": "2025-06-08T02:10:14.841957Z",
     "iopub.status.idle": "2025-06-08T02:10:15.138374Z",
     "shell.execute_reply": "2025-06-08T02:10:15.137436Z"
    },
    "papermill": {
     "duration": 0.308457,
     "end_time": "2025-06-08T02:10:15.139948",
     "exception": false,
     "start_time": "2025-06-08T02:10:14.831491",
     "status": "completed"
    },
    "tags": []
   },
   "outputs": [
    {
     "data": {
      "text/plain": [
       "<matplotlib.collections.PathCollection at 0x7a47d08a0310>"
      ]
     },
     "execution_count": 3,
     "metadata": {},
     "output_type": "execute_result"
    },
    {
     "data": {
      "image/png": "[encoded data removed]",
      "text/plain": [
       "<Figure size 640x480 with 1 Axes>"
      ]
     },
     "metadata": {},
     "output_type": "display_data"
    }
   ],
   "source": [
    "plt.scatter(X,y)"
   ]
  },
  {
   "cell_type": "code",
   "execution_count": 4,
   "id": "c6923f2b",
   "metadata": {
    "execution": {
     "iopub.execute_input": "2025-06-08T02:10:15.160116Z",
     "iopub.status.busy": "2025-06-08T02:10:15.159669Z",
     "iopub.status.idle": "2025-06-08T02:10:15.361288Z",
     "shell.execute_reply": "2025-06-08T02:10:15.360262Z"
    },
    "papermill": {
     "duration": 0.213799,
     "end_time": "2025-06-08T02:10:15.363024",
     "exception": false,
     "start_time": "2025-06-08T02:10:15.149225",
     "status": "completed"
    },
    "tags": []
   },
   "outputs": [],
   "source": [
    "from sklearn.preprocessing import add_dummy_feature\n",
    "X_b = add_dummy_feature(X)"
   ]
  },
  {
   "cell_type": "code",
   "execution_count": 5,
   "id": "212e4d0a",
   "metadata": {
    "execution": {
     "iopub.execute_input": "2025-06-08T02:10:15.383154Z",
     "iopub.status.busy": "2025-06-08T02:10:15.382748Z",
     "iopub.status.idle": "2025-06-08T02:10:15.391858Z",
     "shell.execute_reply": "2025-06-08T02:10:15.390971Z"
    },
    "papermill": {
     "duration": 0.020701,
     "end_time": "2025-06-08T02:10:15.393517",
     "exception": false,
     "start_time": "2025-06-08T02:10:15.372816",
     "status": "completed"
    },
    "tags": []
   },
   "outputs": [],
   "source": [
    "theta_best = np.linalg.inv(X_b.T @ X_b) @ X_b.T @ y"
   ]
  },
  {
   "cell_type": "code",
   "execution_count": 6,
   "id": "215b2177",
   "metadata": {
    "execution": {
     "iopub.execute_input": "2025-06-08T02:10:15.412721Z",
     "iopub.status.busy": "2025-06-08T02:10:15.412406Z",
     "iopub.status.idle": "2025-06-08T02:10:15.418738Z",
     "shell.execute_reply": "2025-06-08T02:10:15.417855Z"
    },
    "papermill": {
     "duration": 0.017802,
     "end_time": "2025-06-08T02:10:15.420350",
     "exception": false,
     "start_time": "2025-06-08T02:10:15.402548",
     "status": "completed"
    },
    "tags": []
   },
   "outputs": [
    {
     "data": {
      "text/plain": [
       "array([[4.21509616],\n",
       "       [2.77011339]])"
      ]
     },
     "execution_count": 6,
     "metadata": {},
     "output_type": "execute_result"
    }
   ],
   "source": [
    "theta_best"
   ]
  },
  {
   "cell_type": "code",
   "execution_count": 7,
   "id": "a31c1bed",
   "metadata": {
    "execution": {
     "iopub.execute_input": "2025-06-08T02:10:15.439770Z",
     "iopub.status.busy": "2025-06-08T02:10:15.439461Z",
     "iopub.status.idle": "2025-06-08T02:10:15.445320Z",
     "shell.execute_reply": "2025-06-08T02:10:15.444397Z"
    },
    "papermill": {
     "duration": 0.017255,
     "end_time": "2025-06-08T02:10:15.446696",
     "exception": false,
     "start_time": "2025-06-08T02:10:15.429441",
     "status": "completed"
    },
    "tags": []
   },
   "outputs": [
    {
     "data": {
      "text/plain": [
       "((100, 2), (2, 100))"
      ]
     },
     "execution_count": 7,
     "metadata": {},
     "output_type": "execute_result"
    }
   ],
   "source": [
    "X_b.shape , X_b.T.shape"
   ]
  },
  {
   "cell_type": "code",
   "execution_count": 8,
   "id": "f67d1e47",
   "metadata": {
    "execution": {
     "iopub.execute_input": "2025-06-08T02:10:15.469063Z",
     "iopub.status.busy": "2025-06-08T02:10:15.468680Z",
     "iopub.status.idle": "2025-06-08T02:10:15.474892Z",
     "shell.execute_reply": "2025-06-08T02:10:15.473980Z"
    },
    "papermill": {
     "duration": 0.019297,
     "end_time": "2025-06-08T02:10:15.476459",
     "exception": false,
     "start_time": "2025-06-08T02:10:15.457162",
     "status": "completed"
    },
    "tags": []
   },
   "outputs": [
    {
     "data": {
      "text/plain": [
       "(100, 100)"
      ]
     },
     "execution_count": 8,
     "metadata": {},
     "output_type": "execute_result"
    }
   ],
   "source": [
    "(X_b @ X_b.T).shape"
   ]
  },
  {
   "cell_type": "code",
   "execution_count": 9,
   "id": "d5f4d7ab",
   "metadata": {
    "execution": {
     "iopub.execute_input": "2025-06-08T02:10:15.498658Z",
     "iopub.status.busy": "2025-06-08T02:10:15.498296Z",
     "iopub.status.idle": "2025-06-08T02:10:15.502952Z",
     "shell.execute_reply": "2025-06-08T02:10:15.502000Z"
    },
    "papermill": {
     "duration": 0.018698,
     "end_time": "2025-06-08T02:10:15.505138",
     "exception": false,
     "start_time": "2025-06-08T02:10:15.486440",
     "status": "completed"
    },
    "tags": []
   },
   "outputs": [],
   "source": [
    "X_new = np.array([[0],[1]])"
   ]
  },
  {
   "cell_type": "code",
   "execution_count": 10,
   "id": "7211eed5",
   "metadata": {
    "execution": {
     "iopub.execute_input": "2025-06-08T02:10:15.525189Z",
     "iopub.status.busy": "2025-06-08T02:10:15.524805Z",
     "iopub.status.idle": "2025-06-08T02:10:15.531575Z",
     "shell.execute_reply": "2025-06-08T02:10:15.530534Z"
    },
    "papermill": {
     "duration": 0.01869,
     "end_time": "2025-06-08T02:10:15.533276",
     "exception": false,
     "start_time": "2025-06-08T02:10:15.514586",
     "status": "completed"
    },
    "tags": []
   },
   "outputs": [
    {
     "data": {
      "text/plain": [
       "((2, 2), (2, 1))"
      ]
     },
     "execution_count": 10,
     "metadata": {},
     "output_type": "execute_result"
    }
   ],
   "source": [
    "X_new\n",
    "X_new_B = add_dummy_feature(X_new)\n",
    "X_new_B.shape , theta_best.shape"
   ]
  },
  {
   "cell_type": "code",
   "execution_count": 11,
   "id": "75050b97",
   "metadata": {
    "execution": {
     "iopub.execute_input": "2025-06-08T02:10:15.553775Z",
     "iopub.status.busy": "2025-06-08T02:10:15.553475Z",
     "iopub.status.idle": "2025-06-08T02:10:15.558560Z",
     "shell.execute_reply": "2025-06-08T02:10:15.557140Z"
    },
    "papermill": {
     "duration": 0.017896,
     "end_time": "2025-06-08T02:10:15.560524",
     "exception": false,
     "start_time": "2025-06-08T02:10:15.542628",
     "status": "completed"
    },
    "tags": []
   },
   "outputs": [],
   "source": [
    "y_predict = X_new_B @ theta_best"
   ]
  },
  {
   "cell_type": "code",
   "execution_count": 12,
   "id": "cb0a2fb5",
   "metadata": {
    "execution": {
     "iopub.execute_input": "2025-06-08T02:10:15.580170Z",
     "iopub.status.busy": "2025-06-08T02:10:15.579783Z",
     "iopub.status.idle": "2025-06-08T02:10:15.733819Z",
     "shell.execute_reply": "2025-06-08T02:10:15.732791Z"
    },
    "papermill": {
     "duration": 0.165615,
     "end_time": "2025-06-08T02:10:15.735459",
     "exception": false,
     "start_time": "2025-06-08T02:10:15.569844",
     "status": "completed"
    },
    "tags": []
   },
   "outputs": [
    {
     "data": {
      "image/png": "[encoded data removed]",
      "text/plain": [
       "<Figure size 640x480 with 1 Axes>"
      ]
     },
     "metadata": {},
     "output_type": "display_data"
    }
   ],
   "source": [
    "import matplotlib.pyplot as plt\n",
    "plt.plot(X_new, y_predict, \"r-\", label=\"Predictions\")\n",
    "plt.plot(X, y, \"b.\")\n",
    "plt.show()"
   ]
  },
  {
   "cell_type": "code",
   "execution_count": 13,
   "id": "3a6d3edd",
   "metadata": {
    "execution": {
     "iopub.execute_input": "2025-06-08T02:10:15.756378Z",
     "iopub.status.busy": "2025-06-08T02:10:15.755653Z",
     "iopub.status.idle": "2025-06-08T02:10:15.999353Z",
     "shell.execute_reply": "2025-06-08T02:10:15.998344Z"
    },
    "papermill": {
     "duration": 0.255518,
     "end_time": "2025-06-08T02:10:16.000889",
     "exception": false,
     "start_time": "2025-06-08T02:10:15.745371",
     "status": "completed"
    },
    "tags": []
   },
   "outputs": [
    {
     "data": {
      "text/plain": [
       "(array([[2.77011339]]), array([4.21509616]))"
      ]
     },
     "execution_count": 13,
     "metadata": {},
     "output_type": "execute_result"
    }
   ],
   "source": [
    "from sklearn.linear_model import LinearRegression\n",
    "\n",
    "lin_reg = LinearRegression()\n",
    "\n",
    "lin_reg.fit(X,y)\n",
    "\n",
    "lin_reg.coef_ , lin_reg.intercept_\n",
    "\n"
   ]
  },
  {
   "cell_type": "code",
   "execution_count": 14,
   "id": "ab3f24f9",
   "metadata": {
    "execution": {
     "iopub.execute_input": "2025-06-08T02:10:16.021849Z",
     "iopub.status.busy": "2025-06-08T02:10:16.021513Z",
     "iopub.status.idle": "2025-06-08T02:10:16.027202Z",
     "shell.execute_reply": "2025-06-08T02:10:16.026230Z"
    },
    "papermill": {
     "duration": 0.017643,
     "end_time": "2025-06-08T02:10:16.028731",
     "exception": false,
     "start_time": "2025-06-08T02:10:16.011088",
     "status": "completed"
    },
    "tags": []
   },
   "outputs": [
    {
     "data": {
      "text/plain": [
       "3232"
      ]
     },
     "execution_count": 14,
     "metadata": {},
     "output_type": "execute_result"
    }
   ],
   "source": [
    " 3232"
   ]
  },
  {
   "cell_type": "code",
   "execution_count": 15,
   "id": "61cc087a",
   "metadata": {
    "execution": {
     "iopub.execute_input": "2025-06-08T02:10:16.049862Z",
     "iopub.status.busy": "2025-06-08T02:10:16.049232Z",
     "iopub.status.idle": "2025-06-08T02:10:16.053751Z",
     "shell.execute_reply": "2025-06-08T02:10:16.052845Z"
    },
    "papermill": {
     "duration": 0.016687,
     "end_time": "2025-06-08T02:10:16.055349",
     "exception": false,
     "start_time": "2025-06-08T02:10:16.038662",
     "status": "completed"
    },
    "tags": []
   },
   "outputs": [],
   "source": [
    "eta = 0.1 \n",
    "n_epochs = 1000 \n",
    "m = len(X_b)"
   ]
  },
  {
   "cell_type": "code",
   "execution_count": 16,
   "id": "fd198488",
   "metadata": {
    "execution": {
     "iopub.execute_input": "2025-06-08T02:10:16.076399Z",
     "iopub.status.busy": "2025-06-08T02:10:16.076069Z",
     "iopub.status.idle": "2025-06-08T02:10:16.080954Z",
     "shell.execute_reply": "2025-06-08T02:10:16.080015Z"
    },
    "papermill": {
     "duration": 0.017155,
     "end_time": "2025-06-08T02:10:16.082427",
     "exception": false,
     "start_time": "2025-06-08T02:10:16.065272",
     "status": "completed"
    },
    "tags": []
   },
   "outputs": [],
   "source": [
    "np.random.seed(42)\n",
    "theta = np.random.randn(2,1)\n"
   ]
  },
  {
   "cell_type": "code",
   "execution_count": 17,
   "id": "bd6fc477",
   "metadata": {
    "execution": {
     "iopub.execute_input": "2025-06-08T02:10:16.170344Z",
     "iopub.status.busy": "2025-06-08T02:10:16.169617Z",
     "iopub.status.idle": "2025-06-08T02:10:16.183953Z",
     "shell.execute_reply": "2025-06-08T02:10:16.182987Z"
    },
    "papermill": {
     "duration": 0.092973,
     "end_time": "2025-06-08T02:10:16.185477",
     "exception": false,
     "start_time": "2025-06-08T02:10:16.092504",
     "status": "completed"
    },
    "tags": []
   },
   "outputs": [],
   "source": [
    " for  epoch in range(n_epochs):\n",
    "     gradient = 2/m * X_b.T@(X_b @ theta - y)\n",
    "     theta = theta - eta*gradient"
   ]
  },
  {
   "cell_type": "code",
   "execution_count": 18,
   "id": "bf0858be",
   "metadata": {
    "execution": {
     "iopub.execute_input": "2025-06-08T02:10:16.206447Z",
     "iopub.status.busy": "2025-06-08T02:10:16.206138Z",
     "iopub.status.idle": "2025-06-08T02:10:16.212897Z",
     "shell.execute_reply": "2025-06-08T02:10:16.211988Z"
    },
    "papermill": {
     "duration": 0.019157,
     "end_time": "2025-06-08T02:10:16.214494",
     "exception": false,
     "start_time": "2025-06-08T02:10:16.195337",
     "status": "completed"
    },
    "tags": []
   },
   "outputs": [
    {
     "data": {
      "text/plain": [
       "((2, 1), (2, 100), (100, 2), (100, 1), (2, 1))"
      ]
     },
     "execution_count": 18,
     "metadata": {},
     "output_type": "execute_result"
    }
   ],
   "source": [
    "theta.shape , X_b.T.shape , X_b.shape , (X_b @ theta).shape , (X_b.T@(X_b @ theta)).shape"
   ]
  },
  {
   "cell_type": "code",
   "execution_count": 19,
   "id": "12a3cdc4",
   "metadata": {
    "execution": {
     "iopub.execute_input": "2025-06-08T02:10:16.235562Z",
     "iopub.status.busy": "2025-06-08T02:10:16.235236Z",
     "iopub.status.idle": "2025-06-08T02:10:16.240874Z",
     "shell.execute_reply": "2025-06-08T02:10:16.240095Z"
    },
    "papermill": {
     "duration": 0.01773,
     "end_time": "2025-06-08T02:10:16.242249",
     "exception": false,
     "start_time": "2025-06-08T02:10:16.224519",
     "status": "completed"
    },
    "tags": []
   },
   "outputs": [
    {
     "data": {
      "text/plain": [
       "array([[4.21509616],\n",
       "       [2.77011339]])"
      ]
     },
     "execution_count": 19,
     "metadata": {},
     "output_type": "execute_result"
    }
   ],
   "source": [
    "theta"
   ]
  },
  {
   "cell_type": "code",
   "execution_count": 20,
   "id": "8931dc38",
   "metadata": {
    "execution": {
     "iopub.execute_input": "2025-06-08T02:10:16.263666Z",
     "iopub.status.busy": "2025-06-08T02:10:16.263397Z",
     "iopub.status.idle": "2025-06-08T02:10:16.339041Z",
     "shell.execute_reply": "2025-06-08T02:10:16.338104Z"
    },
    "papermill": {
     "duration": 0.088367,
     "end_time": "2025-06-08T02:10:16.340707",
     "exception": false,
     "start_time": "2025-06-08T02:10:16.252340",
     "status": "completed"
    },
    "tags": []
   },
   "outputs": [],
   "source": [
    "n_epochs = 50\n",
    "t0, t1 = 5, 50 # learning schedule hyperparameters\n",
    "def learning_schedule(t):\n",
    "    return t0 / (t + t1)\n",
    "np.random.seed(42)\n",
    "theta = np.random.randn(2, 1) # random initialization\n",
    "for epoch in range(n_epochs):\n",
    "    for iteration in range(m):\n",
    "        random_index = np.random.randint(m)\n",
    "        xi = X_b[random_index : random_index + 1]\n",
    "        yi = y[random_index : random_index + 1]\n",
    "        gradients = 2 * xi.T @ (xi @ theta - yi) # for SGD, do not divide by m\n",
    "        eta = learning_schedule(epoch * m + iteration)\n",
    "        theta = theta - eta * gradients"
   ]
  },
  {
   "cell_type": "code",
   "execution_count": 21,
   "id": "ba2a8fee",
   "metadata": {
    "execution": {
     "iopub.execute_input": "2025-06-08T02:10:16.362576Z",
     "iopub.status.busy": "2025-06-08T02:10:16.362299Z",
     "iopub.status.idle": "2025-06-08T02:10:16.368983Z",
     "shell.execute_reply": "2025-06-08T02:10:16.367943Z"
    },
    "papermill": {
     "duration": 0.019324,
     "end_time": "2025-06-08T02:10:16.370733",
     "exception": false,
     "start_time": "2025-06-08T02:10:16.351409",
     "status": "completed"
    },
    "tags": []
   },
   "outputs": [
    {
     "data": {
      "text/plain": [
       "array([[4.21076011],\n",
       "       [2.74856079]])"
      ]
     },
     "execution_count": 21,
     "metadata": {},
     "output_type": "execute_result"
    }
   ],
   "source": [
    "theta"
   ]
  },
  {
   "cell_type": "code",
   "execution_count": 22,
   "id": "f3ea6c06",
   "metadata": {
    "execution": {
     "iopub.execute_input": "2025-06-08T02:10:16.392480Z",
     "iopub.status.busy": "2025-06-08T02:10:16.392167Z",
     "iopub.status.idle": "2025-06-08T02:10:16.396525Z",
     "shell.execute_reply": "2025-06-08T02:10:16.395589Z"
    },
    "papermill": {
     "duration": 0.016784,
     "end_time": "2025-06-08T02:10:16.397900",
     "exception": false,
     "start_time": "2025-06-08T02:10:16.381116",
     "status": "completed"
    },
    "tags": []
   },
   "outputs": [],
   "source": [
    "from sklearn.linear_model import SGDRegressor\n"
   ]
  },
  {
   "cell_type": "code",
   "execution_count": 23,
   "id": "13326d0d",
   "metadata": {
    "execution": {
     "iopub.execute_input": "2025-06-08T02:10:16.419867Z",
     "iopub.status.busy": "2025-06-08T02:10:16.419522Z",
     "iopub.status.idle": "2025-06-08T02:10:16.424849Z",
     "shell.execute_reply": "2025-06-08T02:10:16.423901Z"
    },
    "papermill": {
     "duration": 0.018086,
     "end_time": "2025-06-08T02:10:16.426521",
     "exception": false,
     "start_time": "2025-06-08T02:10:16.408435",
     "status": "completed"
    },
    "tags": []
   },
   "outputs": [],
   "source": [
    "np.random.seed(42)\n",
    "m = 100\n",
    "X = 6 * np.random.rand(m, 1) - 3\n",
    "y = 0.5 * X ** 2 + X + 2 + np.random.randn(m, 1)"
   ]
  },
  {
   "cell_type": "code",
   "execution_count": 24,
   "id": "ea5584ed",
   "metadata": {
    "execution": {
     "iopub.execute_input": "2025-06-08T02:10:16.448383Z",
     "iopub.status.busy": "2025-06-08T02:10:16.447763Z",
     "iopub.status.idle": "2025-06-08T02:10:16.626735Z",
     "shell.execute_reply": "2025-06-08T02:10:16.625838Z"
    },
    "papermill": {
     "duration": 0.191693,
     "end_time": "2025-06-08T02:10:16.628440",
     "exception": false,
     "start_time": "2025-06-08T02:10:16.436747",
     "status": "completed"
    },
    "tags": []
   },
   "outputs": [
    {
     "data": {
      "text/plain": [
       "<matplotlib.collections.PathCollection at 0x7a47ce379750>"
      ]
     },
     "execution_count": 24,
     "metadata": {},
     "output_type": "execute_result"
    },
    {
     "data": {
      "image/png": "[encoded data removed]",
      "text/plain": [
       "<Figure size 640x480 with 1 Axes>"
      ]
     },
     "metadata": {},
     "output_type": "display_data"
    }
   ],
   "source": [
    "plt.scatter(X,y)"
   ]
  },
  {
   "cell_type": "code",
   "execution_count": 25,
   "id": "45a2c743",
   "metadata": {
    "execution": {
     "iopub.execute_input": "2025-06-08T02:10:16.650611Z",
     "iopub.status.busy": "2025-06-08T02:10:16.650295Z",
     "iopub.status.idle": "2025-06-08T02:10:16.655541Z",
     "shell.execute_reply": "2025-06-08T02:10:16.654645Z"
    },
    "papermill": {
     "duration": 0.018116,
     "end_time": "2025-06-08T02:10:16.657102",
     "exception": false,
     "start_time": "2025-06-08T02:10:16.638986",
     "status": "completed"
    },
    "tags": []
   },
   "outputs": [],
   "source": [
    "from sklearn.preprocessing import PolynomialFeatures\n",
    "poly_feature = PolynomialFeatures(degree = 2 , include_bias = False)\n",
    "X_poly = poly_feature.fit_transform(X,y)"
   ]
  },
  {
   "cell_type": "code",
   "execution_count": 26,
   "id": "b9cf1548",
   "metadata": {
    "execution": {
     "iopub.execute_input": "2025-06-08T02:10:16.679846Z",
     "iopub.status.busy": "2025-06-08T02:10:16.679531Z",
     "iopub.status.idle": "2025-06-08T02:10:16.685747Z",
     "shell.execute_reply": "2025-06-08T02:10:16.684782Z"
    },
    "papermill": {
     "duration": 0.019377,
     "end_time": "2025-06-08T02:10:16.687264",
     "exception": false,
     "start_time": "2025-06-08T02:10:16.667887",
     "status": "completed"
    },
    "tags": []
   },
   "outputs": [
    {
     "data": {
      "text/plain": [
       "(array([-0.75275929]), array([-0.75275929,  0.56664654]))"
      ]
     },
     "execution_count": 26,
     "metadata": {},
     "output_type": "execute_result"
    }
   ],
   "source": [
    " X[0], X_poly[0]"
   ]
  },
  {
   "cell_type": "code",
   "execution_count": 27,
   "id": "934fd3f5",
   "metadata": {
    "execution": {
     "iopub.execute_input": "2025-06-08T02:10:16.709896Z",
     "iopub.status.busy": "2025-06-08T02:10:16.709571Z",
     "iopub.status.idle": "2025-06-08T02:10:16.726469Z",
     "shell.execute_reply": "2025-06-08T02:10:16.725479Z"
    },
    "papermill": {
     "duration": 0.030709,
     "end_time": "2025-06-08T02:10:16.728724",
     "exception": false,
     "start_time": "2025-06-08T02:10:16.698015",
     "status": "completed"
    },
    "tags": []
   },
   "outputs": [
    {
     "data": {
      "text/plain": [
       "(array([1.78134581]), array([[0.93366893, 0.56456263]]))"
      ]
     },
     "execution_count": 27,
     "metadata": {},
     "output_type": "execute_result"
    }
   ],
   "source": [
    "lin_reg = LinearRegression()\n",
    "lin_reg.fit(X_poly , y)\n",
    "\n",
    "lin_reg.intercept_, lin_reg.coef_\n"
   ]
  },
  {
   "cell_type": "code",
   "execution_count": 28,
   "id": "29fcbb67",
   "metadata": {
    "execution": {
     "iopub.execute_input": "2025-06-08T02:10:16.752165Z",
     "iopub.status.busy": "2025-06-08T02:10:16.751791Z",
     "iopub.status.idle": "2025-06-08T02:10:17.181105Z",
     "shell.execute_reply": "2025-06-08T02:10:17.179694Z"
    },
    "papermill": {
     "duration": 0.443245,
     "end_time": "2025-06-08T02:10:17.183501",
     "exception": false,
     "start_time": "2025-06-08T02:10:16.740256",
     "status": "completed"
    },
    "tags": []
   },
   "outputs": [
    {
     "data": {
      "image/png": "[encoded data removed]",
      "text/plain": [
       "<Figure size 640x480 with 1 Axes>"
      ]
     },
     "metadata": {},
     "output_type": "display_data"
    }
   ],
   "source": [
    " from sklearn.model_selection import learning_curve\n",
    "train_sizes, train_scores, valid_scores = learning_curve(\n",
    "LinearRegression(), X, y, train_sizes=np.linspace(0.01, 1.0, 40), cv=5,\n",
    "scoring=\"neg_root_mean_squared_error\")\n",
    "train_errors = -train_scores.mean(axis=1)\n",
    "valid_errors = -valid_scores.mean(axis=1)\n",
    "plt.plot(train_sizes, train_errors, \"r-+\", linewidth=2, label=\"train\")\n",
    "plt.plot(train_sizes, valid_errors, \"b-\", linewidth=3, label=\"valid\")\n",
    "\n",
    "# beautify the figure: add labels, axis, grid, and legend\n",
    "plt.show()"
   ]
  },
  {
   "cell_type": "code",
   "execution_count": 29,
   "id": "d7ad607a",
   "metadata": {
    "execution": {
     "iopub.execute_input": "2025-06-08T02:10:17.215111Z",
     "iopub.status.busy": "2025-06-08T02:10:17.214747Z",
     "iopub.status.idle": "2025-06-08T02:10:17.229667Z",
     "shell.execute_reply": "2025-06-08T02:10:17.228342Z"
    },
    "papermill": {
     "duration": 0.032898,
     "end_time": "2025-06-08T02:10:17.231489",
     "exception": false,
     "start_time": "2025-06-08T02:10:17.198591",
     "status": "completed"
    },
    "tags": []
   },
   "outputs": [],
   "source": [
    "from sklearn.pipeline import make_pipeline\n",
    "\n",
    "polynomial_regression = make_pipeline(PolynomialFeatures(degree=10 , include_bias = False) , \n",
    "                                     LinearRegression())"
   ]
  },
  {
   "cell_type": "code",
   "execution_count": 30,
   "id": "54212921",
   "metadata": {
    "execution": {
     "iopub.execute_input": "2025-06-08T02:10:17.256048Z",
     "iopub.status.busy": "2025-06-08T02:10:17.255350Z",
     "iopub.status.idle": "2025-06-08T02:10:17.792827Z",
     "shell.execute_reply": "2025-06-08T02:10:17.791782Z"
    },
    "papermill": {
     "duration": 0.551478,
     "end_time": "2025-06-08T02:10:17.794545",
     "exception": false,
     "start_time": "2025-06-08T02:10:17.243067",
     "status": "completed"
    },
    "tags": []
   },
   "outputs": [],
   "source": [
    "train_sizes, train_scores, valid_scores= learning_curve(polynomial_regression , X, y , train_sizes = np.linspace(0.01,1.0,40) ,cv = 5 ,\n",
    "              scoring = 'neg_root_mean_squared_error')"
   ]
  },
  {
   "cell_type": "code",
   "execution_count": 31,
   "id": "c7d264fc",
   "metadata": {
    "execution": {
     "iopub.execute_input": "2025-06-08T02:10:17.818050Z",
     "iopub.status.busy": "2025-06-08T02:10:17.817690Z",
     "iopub.status.idle": "2025-06-08T02:10:17.983972Z",
     "shell.execute_reply": "2025-06-08T02:10:17.982882Z"
    },
    "papermill": {
     "duration": 0.179992,
     "end_time": "2025-06-08T02:10:17.985885",
     "exception": false,
     "start_time": "2025-06-08T02:10:17.805893",
     "status": "completed"
    },
    "tags": []
   },
   "outputs": [
    {
     "data": {
      "text/plain": [
       "[<matplotlib.lines.Line2D at 0x7a47cdf33f50>]"
      ]
     },
     "execution_count": 31,
     "metadata": {},
     "output_type": "execute_result"
    },
    {
     "data": {
      "image/png": "[encoded data removed]",
      "text/plain": [
       "<Figure size 640x480 with 1 Axes>"
      ]
     },
     "metadata": {},
     "output_type": "display_data"
    }
   ],
   "source": [
    "train_errors = -train_scores.mean(axis=1)\n",
    "valid_errors = -valid_scores.mean(axis=1)\n",
    "plt.plot(train_sizes, train_errors, \"r-+\", linewidth=2, label=\"train\")\n",
    "plt.plot(train_sizes, valid_errors, \"b-\", linewidth=3, label=\"valid\")\n",
    "\n"
   ]
  },
  {
   "cell_type": "markdown",
   "id": "05eb3139",
   "metadata": {
    "papermill": {
     "duration": 0.011375,
     "end_time": "2025-06-08T02:10:18.009071",
     "exception": false,
     "start_time": "2025-06-08T02:10:17.997696",
     "status": "completed"
    },
    "tags": []
   },
   "source": [
    "##### Bias\n",
    "This part of the generalization error is due to wrong assumptions,\n",
    "such as assuming that the data is linear when it is actually quadratic.\n",
    "A high-bias model is most likely to underfit the training data.\n",
    "##### Variance\n",
    "This part is due to the model’s excessive sensitivity to small\n",
    "variations in the training data. A model with many degrees of\n",
    "freedom (such as a high-degree polynomial model) is likely to have\n",
    "high variance and thus overfit the training data.\n",
    "\n",
    "##### Regularized Linear Models\n",
    "a good way to reduce overfitting is to\n",
    "regularize the model (i.e., to constrain it): the fewer degrees of freedom it\n",
    "has, the harder it will be for it to overfit the data. A simple way to regularize\n",
    "a polynomial model is to reduce the number of polynomial degrees."
   ]
  },
  {
   "cell_type": "code",
   "execution_count": 32,
   "id": "9aae5683",
   "metadata": {
    "execution": {
     "iopub.execute_input": "2025-06-08T02:10:18.034752Z",
     "iopub.status.busy": "2025-06-08T02:10:18.034473Z",
     "iopub.status.idle": "2025-06-08T02:10:18.045209Z",
     "shell.execute_reply": "2025-06-08T02:10:18.044149Z"
    },
    "papermill": {
     "duration": 0.025172,
     "end_time": "2025-06-08T02:10:18.046764",
     "exception": false,
     "start_time": "2025-06-08T02:10:18.021592",
     "status": "completed"
    },
    "tags": []
   },
   "outputs": [
    {
     "data": {
      "text/plain": [
       "array([[4.82899748]])"
      ]
     },
     "execution_count": 32,
     "metadata": {},
     "output_type": "execute_result"
    }
   ],
   "source": [
    " # Here is how to perform ridge regression with Scikit-Learn using a closedform solution (a variant of Equation 4-9 that uses a matrix factorization\n",
    "# technique by André-Louis Cholesky):\n",
    "from sklearn.linear_model import Ridge\n",
    "ridge_reg = Ridge(alpha=0.1, solver=\"cholesky\")\n",
    "ridge_reg.fit(X,y)\n",
    "ridge_reg.predict([[1.5]])\n"
   ]
  },
  {
   "cell_type": "code",
   "execution_count": 33,
   "id": "e6411b48",
   "metadata": {
    "execution": {
     "iopub.execute_input": "2025-06-08T02:10:18.070953Z",
     "iopub.status.busy": "2025-06-08T02:10:18.070625Z",
     "iopub.status.idle": "2025-06-08T02:10:18.087778Z",
     "shell.execute_reply": "2025-06-08T02:10:18.087030Z"
    },
    "papermill": {
     "duration": 0.030916,
     "end_time": "2025-06-08T02:10:18.089343",
     "exception": false,
     "start_time": "2025-06-08T02:10:18.058427",
     "status": "completed"
    },
    "tags": []
   },
   "outputs": [
    {
     "data": {
      "text/plain": [
       "array([4.82830117])"
      ]
     },
     "execution_count": 33,
     "metadata": {},
     "output_type": "execute_result"
    }
   ],
   "source": [
    "# And using stochastic gradient descent:\n",
    "sgd_reg = SGDRegressor(penalty=\"l2\", alpha=0.1 / m, tol=None, max_iter=1000, eta0=0.01, random_state=42)\n",
    "sgd_reg.fit(X, y.ravel()) # y.ravel() because fit() expects 1D targets\n",
    "sgd_reg.predict([[1.5]])\n",
    " "
   ]
  },
  {
   "cell_type": "code",
   "execution_count": 34,
   "id": "9548c552",
   "metadata": {
    "execution": {
     "iopub.execute_input": "2025-06-08T02:10:18.113629Z",
     "iopub.status.busy": "2025-06-08T02:10:18.113342Z",
     "iopub.status.idle": "2025-06-08T02:10:18.124434Z",
     "shell.execute_reply": "2025-06-08T02:10:18.123256Z"
    },
    "papermill": {
     "duration": 0.025135,
     "end_time": "2025-06-08T02:10:18.126116",
     "exception": false,
     "start_time": "2025-06-08T02:10:18.100981",
     "status": "completed"
    },
    "tags": []
   },
   "outputs": [
    {
     "data": {
      "text/plain": [
       "array([4.77621741])"
      ]
     },
     "execution_count": 34,
     "metadata": {},
     "output_type": "execute_result"
    }
   ],
   "source": [
    "from sklearn.linear_model import Lasso\n",
    "lasso_reg = Lasso(alpha=0.1)\n",
    "lasso_reg.fit(X,y)\n",
    "lasso_reg.predict([[1.5]])"
   ]
  },
  {
   "cell_type": "code",
   "execution_count": 35,
   "id": "8a24ac67",
   "metadata": {
    "execution": {
     "iopub.execute_input": "2025-06-08T02:10:18.151031Z",
     "iopub.status.busy": "2025-06-08T02:10:18.150626Z",
     "iopub.status.idle": "2025-06-08T02:10:18.170064Z",
     "shell.execute_reply": "2025-06-08T02:10:18.169097Z"
    },
    "papermill": {
     "duration": 0.03359,
     "end_time": "2025-06-08T02:10:18.171574",
     "exception": false,
     "start_time": "2025-06-08T02:10:18.137984",
     "status": "completed"
    },
    "tags": []
   },
   "outputs": [
    {
     "name": "stderr",
     "output_type": "stream",
     "text": [
      "/usr/local/lib/python3.11/dist-packages/sklearn/utils/validation.py:1143: DataConversionWarning: A column-vector y was passed when a 1d array was expected. Please change the shape of y to (n_samples, ), for example using ravel().\n",
      "  y = column_or_1d(y, warn=True)\n"
     ]
    },
    {
     "data": {
      "text/plain": [
       "array([4.77557733])"
      ]
     },
     "execution_count": 35,
     "metadata": {},
     "output_type": "execute_result"
    }
   ],
   "source": [
    "sgd_reg = SGDRegressor(penalty = 'l1' , alpha = 0.1 , tol=None, max_iter=1000, eta0=0.01, random_state=42)\n",
    "sgd_reg.fit(X,y)\n",
    "sgd_reg.predict([[1.5]])"
   ]
  },
  {
   "cell_type": "markdown",
   "id": "650d53b1",
   "metadata": {
    "papermill": {
     "duration": 0.011662,
     "end_time": "2025-06-08T02:10:18.195302",
     "exception": false,
     "start_time": "2025-06-08T02:10:18.183640",
     "status": "completed"
    },
    "tags": []
   },
   "source": [
    "Elastic net regression is a middle ground between ridge regression and lasso\n",
    "regression. The regularization term is a weighted sum of both ridge and\n",
    "lasso’s regularization terms, and you can control the mix ratio r. When r = 0,\n",
    "elastic net is equivalent to ridge regression, and when r = 1, it is equivalent to\n",
    "lasso regression"
   ]
  },
  {
   "cell_type": "markdown",
   "id": "8a58f825",
   "metadata": {
    "papermill": {
     "duration": 0.011808,
     "end_time": "2025-06-08T02:10:18.218872",
     "exception": false,
     "start_time": "2025-06-08T02:10:18.207064",
     "status": "completed"
    },
    "tags": []
   },
   "source": [
    "So when should you use elastic net regression, or ridge, lasso, or plain linear\n",
    "regression (i.e., without any regularization)? It is almost always preferable to\n",
    "have at least a little bit of regularization, so generally you should avoid plain\n",
    "linear regression. Ridge is a good default, but if you suspect that only a few\n",
    "features are useful, you should prefer lasso or elastic net because they tend to\n",
    "reduce the useless features’ weights down to zero, as discussed earlier. In\n",
    "general, elastic net is preferred over lasso because lasso may behave\n",
    "erratically when the number of features is greater than the number of training\n",
    "instances or when several features are strongly correlated.\n"
   ]
  },
  {
   "cell_type": "code",
   "execution_count": 36,
   "id": "61f41c30",
   "metadata": {
    "execution": {
     "iopub.execute_input": "2025-06-08T02:10:18.244273Z",
     "iopub.status.busy": "2025-06-08T02:10:18.243262Z",
     "iopub.status.idle": "2025-06-08T02:10:18.252103Z",
     "shell.execute_reply": "2025-06-08T02:10:18.250988Z"
    },
    "papermill": {
     "duration": 0.023197,
     "end_time": "2025-06-08T02:10:18.253806",
     "exception": false,
     "start_time": "2025-06-08T02:10:18.230609",
     "status": "completed"
    },
    "tags": []
   },
   "outputs": [
    {
     "data": {
      "text/plain": [
       "array([4.78114505])"
      ]
     },
     "execution_count": 36,
     "metadata": {},
     "output_type": "execute_result"
    }
   ],
   "source": [
    "from sklearn.linear_model import ElasticNet\n",
    "elastic_net = ElasticNet(alpha = 0.1 , l1_ratio = 0.5)\n",
    "elastic_net.fit(X,y)\n",
    "elastic_net.predict([[1.5]])"
   ]
  },
  {
   "cell_type": "code",
   "execution_count": 37,
   "id": "ebb8064c",
   "metadata": {
    "execution": {
     "iopub.execute_input": "2025-06-08T02:10:18.281133Z",
     "iopub.status.busy": "2025-06-08T02:10:18.280573Z",
     "iopub.status.idle": "2025-06-08T02:10:18.285341Z",
     "shell.execute_reply": "2025-06-08T02:10:18.284335Z"
    },
    "papermill": {
     "duration": 0.019345,
     "end_time": "2025-06-08T02:10:18.286838",
     "exception": false,
     "start_time": "2025-06-08T02:10:18.267493",
     "status": "completed"
    },
    "tags": []
   },
   "outputs": [],
   "source": [
    "# from copy import deepcopy\n",
    "# from sklearn.metrics import mean_squared_error\n",
    "# from sklearn.preprocessing import StandardScaler\n",
    "# ## Here is a basic implementation of early stopping:\n",
    "# X_train , X_valid , y_train , y_valid = X[:80] , X[80:] , y[:80] , y[80:]\n",
    "\n",
    "# preprocessing = make_pipeline(PolynomialFeatures(degree = 90 ,include_bias = False),\n",
    "#                               StandardScaler())\n",
    "# X_train_prep = preprocessing.fit_transform(X_train)\n",
    "# X_valid_prep = preprocessing.transform(X_valid)\n",
    "\n",
    "# sgd_reg = SGDRegressor(penalty= None , eta0 = 0.002 , random_state = 42)\n",
    "# n_epochs = 500\n",
    "# best_valid_rsme = float('inf')\n",
    "\n",
    "\n",
    "# for epoch in range(n_epochs):\n",
    "#     sgd_reg.partial_fit(X_train , y_train)\n",
    "#     y_valid_predict =  sgd_reg.predict(X_valid_prep)\n",
    "#     val_error = mean_squared_error(y_valid, y_valid_predict, squared=False)\n",
    "#     if val_error < best_valid_rmse:\n",
    "#         best_valid_rmse = val_error\n",
    "#         best_model = deepcopy(sgd_reg)\n",
    "        "
   ]
  },
  {
   "cell_type": "code",
   "execution_count": 38,
   "id": "9264fb0a",
   "metadata": {
    "execution": {
     "iopub.execute_input": "2025-06-08T02:10:18.314526Z",
     "iopub.status.busy": "2025-06-08T02:10:18.314133Z",
     "iopub.status.idle": "2025-06-08T02:10:18.461054Z",
     "shell.execute_reply": "2025-06-08T02:10:18.460022Z"
    },
    "papermill": {
     "duration": 0.163213,
     "end_time": "2025-06-08T02:10:18.462710",
     "exception": false,
     "start_time": "2025-06-08T02:10:18.299497",
     "status": "completed"
    },
    "tags": []
   },
   "outputs": [],
   "source": [
    "from sklearn.datasets import load_iris\n",
    "iris = load_iris(as_frame=True)"
   ]
  },
  {
   "cell_type": "code",
   "execution_count": 39,
   "id": "eb5ce53c",
   "metadata": {
    "execution": {
     "iopub.execute_input": "2025-06-08T02:10:18.487737Z",
     "iopub.status.busy": "2025-06-08T02:10:18.487412Z",
     "iopub.status.idle": "2025-06-08T02:10:18.493563Z",
     "shell.execute_reply": "2025-06-08T02:10:18.492489Z"
    },
    "papermill": {
     "duration": 0.020622,
     "end_time": "2025-06-08T02:10:18.495174",
     "exception": false,
     "start_time": "2025-06-08T02:10:18.474552",
     "status": "completed"
    },
    "tags": []
   },
   "outputs": [
    {
     "data": {
      "text/plain": [
       "['data',\n",
       " 'target',\n",
       " 'frame',\n",
       " 'target_names',\n",
       " 'DESCR',\n",
       " 'feature_names',\n",
       " 'filename',\n",
       " 'data_module']"
      ]
     },
     "execution_count": 39,
     "metadata": {},
     "output_type": "execute_result"
    }
   ],
   "source": [
    "list(iris)"
   ]
  },
  {
   "cell_type": "code",
   "execution_count": 40,
   "id": "f754b9cf",
   "metadata": {
    "execution": {
     "iopub.execute_input": "2025-06-08T02:10:18.522224Z",
     "iopub.status.busy": "2025-06-08T02:10:18.521746Z",
     "iopub.status.idle": "2025-06-08T02:10:18.526723Z",
     "shell.execute_reply": "2025-06-08T02:10:18.525586Z"
    },
    "papermill": {
     "duration": 0.020914,
     "end_time": "2025-06-08T02:10:18.528601",
     "exception": false,
     "start_time": "2025-06-08T02:10:18.507687",
     "status": "completed"
    },
    "tags": []
   },
   "outputs": [],
   "source": [
    "# iris.data\n",
    "# iris.target\n",
    "# iris.target_names[iris.target]"
   ]
  },
  {
   "cell_type": "code",
   "execution_count": 41,
   "id": "b41b0d08",
   "metadata": {
    "execution": {
     "iopub.execute_input": "2025-06-08T02:10:18.554760Z",
     "iopub.status.busy": "2025-06-08T02:10:18.554438Z",
     "iopub.status.idle": "2025-06-08T02:10:18.576548Z",
     "shell.execute_reply": "2025-06-08T02:10:18.575511Z"
    },
    "papermill": {
     "duration": 0.036845,
     "end_time": "2025-06-08T02:10:18.578375",
     "exception": false,
     "start_time": "2025-06-08T02:10:18.541530",
     "status": "completed"
    },
    "tags": []
   },
   "outputs": [
    {
     "data": {
      "text/html": [
       "<div>\n",
       "<style scoped>\n",
       "    .dataframe tbody tr th:only-of-type {\n",
       "        vertical-align: middle;\n",
       "    }\n",
       "\n",
       "    .dataframe tbody tr th {\n",
       "        vertical-align: top;\n",
       "    }\n",
       "\n",
       "    .dataframe thead th {\n",
       "        text-align: right;\n",
       "    }\n",
       "</style>\n",
       "<table border=\"1\" class=\"dataframe\">\n",
       "  <thead>\n",
       "    <tr style=\"text-align: right;\">\n",
       "      <th></th>\n",
       "      <th>sepal length (cm)</th>\n",
       "      <th>sepal width (cm)</th>\n",
       "      <th>petal length (cm)</th>\n",
       "      <th>petal width (cm)</th>\n",
       "    </tr>\n",
       "  </thead>\n",
       "  <tbody>\n",
       "    <tr>\n",
       "      <th>0</th>\n",
       "      <td>5.1</td>\n",
       "      <td>3.5</td>\n",
       "      <td>1.4</td>\n",
       "      <td>0.2</td>\n",
       "    </tr>\n",
       "    <tr>\n",
       "      <th>1</th>\n",
       "      <td>4.9</td>\n",
       "      <td>3.0</td>\n",
       "      <td>1.4</td>\n",
       "      <td>0.2</td>\n",
       "    </tr>\n",
       "    <tr>\n",
       "      <th>2</th>\n",
       "      <td>4.7</td>\n",
       "      <td>3.2</td>\n",
       "      <td>1.3</td>\n",
       "      <td>0.2</td>\n",
       "    </tr>\n",
       "  </tbody>\n",
       "</table>\n",
       "</div>"
      ],
      "text/plain": [
       "   sepal length (cm)  sepal width (cm)  petal length (cm)  petal width (cm)\n",
       "0                5.1               3.5                1.4               0.2\n",
       "1                4.9               3.0                1.4               0.2\n",
       "2                4.7               3.2                1.3               0.2"
      ]
     },
     "execution_count": 41,
     "metadata": {},
     "output_type": "execute_result"
    }
   ],
   "source": [
    "iris.data.head(3)"
   ]
  },
  {
   "cell_type": "code",
   "execution_count": 42,
   "id": "9d614bb5",
   "metadata": {
    "execution": {
     "iopub.execute_input": "2025-06-08T02:10:18.604157Z",
     "iopub.status.busy": "2025-06-08T02:10:18.603763Z",
     "iopub.status.idle": "2025-06-08T02:10:18.609835Z",
     "shell.execute_reply": "2025-06-08T02:10:18.608959Z"
    },
    "papermill": {
     "duration": 0.020765,
     "end_time": "2025-06-08T02:10:18.611514",
     "exception": false,
     "start_time": "2025-06-08T02:10:18.590749",
     "status": "completed"
    },
    "tags": []
   },
   "outputs": [
    {
     "data": {
      "text/plain": [
       "array(['setosa', 'versicolor', 'virginica'], dtype='<U10')"
      ]
     },
     "execution_count": 42,
     "metadata": {},
     "output_type": "execute_result"
    }
   ],
   "source": [
    "iris.target_names"
   ]
  },
  {
   "cell_type": "code",
   "execution_count": 43,
   "id": "68bfc42c",
   "metadata": {
    "execution": {
     "iopub.execute_input": "2025-06-08T02:10:18.637401Z",
     "iopub.status.busy": "2025-06-08T02:10:18.637083Z",
     "iopub.status.idle": "2025-06-08T02:10:18.641958Z",
     "shell.execute_reply": "2025-06-08T02:10:18.640701Z"
    },
    "papermill": {
     "duration": 0.019861,
     "end_time": "2025-06-08T02:10:18.643614",
     "exception": false,
     "start_time": "2025-06-08T02:10:18.623753",
     "status": "completed"
    },
    "tags": []
   },
   "outputs": [],
   "source": [
    "from sklearn.linear_model import LogisticRegression\n",
    "from sklearn.model_selection import train_test_split\n",
    "\n"
   ]
  },
  {
   "cell_type": "code",
   "execution_count": 44,
   "id": "4bf8ac8a",
   "metadata": {
    "execution": {
     "iopub.execute_input": "2025-06-08T02:10:18.669554Z",
     "iopub.status.busy": "2025-06-08T02:10:18.669239Z",
     "iopub.status.idle": "2025-06-08T02:10:18.674872Z",
     "shell.execute_reply": "2025-06-08T02:10:18.674045Z"
    },
    "papermill": {
     "duration": 0.02029,
     "end_time": "2025-06-08T02:10:18.676431",
     "exception": false,
     "start_time": "2025-06-08T02:10:18.656141",
     "status": "completed"
    },
    "tags": []
   },
   "outputs": [],
   "source": [
    "X = iris.data[['petal width (cm)']].values "
   ]
  },
  {
   "cell_type": "code",
   "execution_count": 45,
   "id": "26df6e68",
   "metadata": {
    "execution": {
     "iopub.execute_input": "2025-06-08T02:10:18.704230Z",
     "iopub.status.busy": "2025-06-08T02:10:18.703843Z",
     "iopub.status.idle": "2025-06-08T02:10:18.708628Z",
     "shell.execute_reply": "2025-06-08T02:10:18.707570Z"
    },
    "papermill": {
     "duration": 0.020205,
     "end_time": "2025-06-08T02:10:18.710536",
     "exception": false,
     "start_time": "2025-06-08T02:10:18.690331",
     "status": "completed"
    },
    "tags": []
   },
   "outputs": [],
   "source": [
    "y = (iris.target_names[iris.target] == 'virginica')"
   ]
  },
  {
   "cell_type": "code",
   "execution_count": 46,
   "id": "77885e1d",
   "metadata": {
    "execution": {
     "iopub.execute_input": "2025-06-08T02:10:18.739271Z",
     "iopub.status.busy": "2025-06-08T02:10:18.738887Z",
     "iopub.status.idle": "2025-06-08T02:10:18.744757Z",
     "shell.execute_reply": "2025-06-08T02:10:18.744039Z"
    },
    "papermill": {
     "duration": 0.023258,
     "end_time": "2025-06-08T02:10:18.746283",
     "exception": false,
     "start_time": "2025-06-08T02:10:18.723025",
     "status": "completed"
    },
    "tags": []
   },
   "outputs": [
    {
     "data": {
      "text/plain": [
       "((150, 1), (150,))"
      ]
     },
     "execution_count": 46,
     "metadata": {},
     "output_type": "execute_result"
    }
   ],
   "source": [
    "X.reshape(-1,1).shape , y.shape"
   ]
  },
  {
   "cell_type": "code",
   "execution_count": 47,
   "id": "5c5b9ee4",
   "metadata": {
    "execution": {
     "iopub.execute_input": "2025-06-08T02:10:18.773622Z",
     "iopub.status.busy": "2025-06-08T02:10:18.773297Z",
     "iopub.status.idle": "2025-06-08T02:10:18.779099Z",
     "shell.execute_reply": "2025-06-08T02:10:18.778141Z"
    },
    "papermill": {
     "duration": 0.021965,
     "end_time": "2025-06-08T02:10:18.780584",
     "exception": false,
     "start_time": "2025-06-08T02:10:18.758619",
     "status": "completed"
    },
    "tags": []
   },
   "outputs": [],
   "source": [
    "X_train , X_test , y_train , y_test = train_test_split(X,y,random_state =42)"
   ]
  },
  {
   "cell_type": "code",
   "execution_count": 48,
   "id": "7b805da9",
   "metadata": {
    "execution": {
     "iopub.execute_input": "2025-06-08T02:10:18.808954Z",
     "iopub.status.busy": "2025-06-08T02:10:18.808566Z",
     "iopub.status.idle": "2025-06-08T02:10:18.833033Z",
     "shell.execute_reply": "2025-06-08T02:10:18.831128Z"
    },
    "papermill": {
     "duration": 0.041504,
     "end_time": "2025-06-08T02:10:18.834793",
     "exception": false,
     "start_time": "2025-06-08T02:10:18.793289",
     "status": "completed"
    },
    "tags": []
   },
   "outputs": [
    {
     "data": {
      "text/html": [
       "<style>#sk-container-id-1 {color: black;background-color: white;}#sk-container-id-1 pre{padding: 0;}#sk-container-id-1 div.sk-toggleable {background-color: white;}#sk-container-id-1 label.sk-toggleable__label {cursor: pointer;display: block;width: 100%;margin-bottom: 0;padding: 0.3em;box-sizing: border-box;text-align: center;}#sk-container-id-1 label.sk-toggleable__label-arrow:before {content: \"▸\";float: left;margin-right: 0.25em;color: #696969;}#sk-container-id-1 label.sk-toggleable__label-arrow:hover:before {color: black;}#sk-container-id-1 div.sk-estimator:hover label.sk-toggleable__label-arrow:before {color: black;}#sk-container-id-1 div.sk-toggleable__content {max-height: 0;max-width: 0;overflow: hidden;text-align: left;background-color: #f0f8ff;}#sk-container-id-1 div.sk-toggleable__content pre {margin: 0.2em;color: black;border-radius: 0.25em;background-color: #f0f8ff;}#sk-container-id-1 input.sk-toggleable__control:checked~div.sk-toggleable__content {max-height: 200px;max-width: 100%;overflow: auto;}#sk-container-id-1 input.sk-toggleable__control:checked~label.sk-toggleable__label-arrow:before {content: \"▾\";}#sk-container-id-1 div.sk-estimator input.sk-toggleable__control:checked~label.sk-toggleable__label {background-color: #d4ebff;}#sk-container-id-1 div.sk-label input.sk-toggleable__control:checked~label.sk-toggleable__label {background-color: #d4ebff;}#sk-container-id-1 input.sk-hidden--visually {border: 0;clip: rect(1px 1px 1px 1px);clip: rect(1px, 1px, 1px, 1px);height: 1px;margin: -1px;overflow: hidden;padding: 0;position: absolute;width: 1px;}#sk-container-id-1 div.sk-estimator {font-family: monospace;background-color: #f0f8ff;border: 1px dotted black;border-radius: 0.25em;box-sizing: border-box;margin-bottom: 0.5em;}#sk-container-id-1 div.sk-estimator:hover {background-color: #d4ebff;}#sk-container-id-1 div.sk-parallel-item::after {content: \"\";width: 100%;border-bottom: 1px solid gray;flex-grow: 1;}#sk-container-id-1 div.sk-label:hover label.sk-toggleable__label {background-color: #d4ebff;}#sk-container-id-1 div.sk-serial::before {content: \"\";position: absolute;border-left: 1px solid gray;box-sizing: border-box;top: 0;bottom: 0;left: 50%;z-index: 0;}#sk-container-id-1 div.sk-serial {display: flex;flex-direction: column;align-items: center;background-color: white;padding-right: 0.2em;padding-left: 0.2em;position: relative;}#sk-container-id-1 div.sk-item {position: relative;z-index: 1;}#sk-container-id-1 div.sk-parallel {display: flex;align-items: stretch;justify-content: center;background-color: white;position: relative;}#sk-container-id-1 div.sk-item::before, #sk-container-id-1 div.sk-parallel-item::before {content: \"\";position: absolute;border-left: 1px solid gray;box-sizing: border-box;top: 0;bottom: 0;left: 50%;z-index: -1;}#sk-container-id-1 div.sk-parallel-item {display: flex;flex-direction: column;z-index: 1;position: relative;background-color: white;}#sk-container-id-1 div.sk-parallel-item:first-child::after {align-self: flex-end;width: 50%;}#sk-container-id-1 div.sk-parallel-item:last-child::after {align-self: flex-start;width: 50%;}#sk-container-id-1 div.sk-parallel-item:only-child::after {width: 0;}#sk-container-id-1 div.sk-dashed-wrapped {border: 1px dashed gray;margin: 0 0.4em 0.5em 0.4em;box-sizing: border-box;padding-bottom: 0.4em;background-color: white;}#sk-container-id-1 div.sk-label label {font-family: monospace;font-weight: bold;display: inline-block;line-height: 1.2em;}#sk-container-id-1 div.sk-label-container {text-align: center;}#sk-container-id-1 div.sk-container {/* jupyter's `normalize.less` sets `[hidden] { display: none; }` but bootstrap.min.css set `[hidden] { display: none !important; }` so we also need the `!important` here to be able to override the default hidden behavior on the sphinx rendered scikit-learn.org. See: https://github.com/scikit-learn/scikit-learn/issues/21755 */display: inline-block !important;position: relative;}#sk-container-id-1 div.sk-text-repr-fallback {display: none;}</style><div id=\"sk-container-id-1\" class=\"sk-top-container\"><div class=\"sk-text-repr-fallback\"><pre>LogisticRegression(random_state=42)</pre><b>In a Jupyter environment, please rerun this cell to show the HTML representation or trust the notebook. <br />On GitHub, the HTML representation is unable to render, please try loading this page with nbviewer.org.</b></div><div class=\"sk-container\" hidden><div class=\"sk-item\"><div class=\"sk-estimator sk-toggleable\"><input class=\"sk-toggleable__control sk-hidden--visually\" id=\"sk-estimator-id-1\" type=\"checkbox\" checked><label for=\"sk-estimator-id-1\" class=\"sk-toggleable__label sk-toggleable__label-arrow\">LogisticRegression</label><div class=\"sk-toggleable__content\"><pre>LogisticRegression(random_state=42)</pre></div></div></div></div></div>"
      ],
      "text/plain": [
       "LogisticRegression(random_state=42)"
      ]
     },
     "execution_count": 48,
     "metadata": {},
     "output_type": "execute_result"
    }
   ],
   "source": [
    "log_reg = LogisticRegression(random_state=42)\n",
    "log_reg.fit(X_train, y_train)"
   ]
  },
  {
   "cell_type": "code",
   "execution_count": 49,
   "id": "cdfa7bb0",
   "metadata": {
    "execution": {
     "iopub.execute_input": "2025-06-08T02:10:18.879181Z",
     "iopub.status.busy": "2025-06-08T02:10:18.878731Z",
     "iopub.status.idle": "2025-06-08T02:10:18.886514Z",
     "shell.execute_reply": "2025-06-08T02:10:18.885717Z"
    },
    "papermill": {
     "duration": 0.031455,
     "end_time": "2025-06-08T02:10:18.888147",
     "exception": false,
     "start_time": "2025-06-08T02:10:18.856692",
     "status": "completed"
    },
    "tags": []
   },
   "outputs": [],
   "source": [
    "X_new= np.linspace(0,3,1000).reshape(-1,1)\n",
    "y_proba = log_reg.predict_proba(X_new)"
   ]
  },
  {
   "cell_type": "code",
   "execution_count": 50,
   "id": "3d1a0016",
   "metadata": {
    "execution": {
     "iopub.execute_input": "2025-06-08T02:10:18.931382Z",
     "iopub.status.busy": "2025-06-08T02:10:18.930890Z",
     "iopub.status.idle": "2025-06-08T02:10:18.937406Z",
     "shell.execute_reply": "2025-06-08T02:10:18.936462Z"
    },
    "papermill": {
     "duration": 0.030389,
     "end_time": "2025-06-08T02:10:18.939745",
     "exception": false,
     "start_time": "2025-06-08T02:10:18.909356",
     "status": "completed"
    },
    "tags": []
   },
   "outputs": [],
   "source": [
    "decision_boundary = X_new[y_proba[:,1]>=0.5][0,0]"
   ]
  },
  {
   "cell_type": "code",
   "execution_count": 51,
   "id": "7ebdbec1",
   "metadata": {
    "execution": {
     "iopub.execute_input": "2025-06-08T02:10:18.967499Z",
     "iopub.status.busy": "2025-06-08T02:10:18.967174Z",
     "iopub.status.idle": "2025-06-08T02:10:19.112003Z",
     "shell.execute_reply": "2025-06-08T02:10:19.110987Z"
    },
    "papermill": {
     "duration": 0.159955,
     "end_time": "2025-06-08T02:10:19.113629",
     "exception": false,
     "start_time": "2025-06-08T02:10:18.953674",
     "status": "completed"
    },
    "tags": []
   },
   "outputs": [
    {
     "data": {
      "image/png": "[encoded data removed]",
      "text/plain": [
       "<Figure size 640x480 with 1 Axes>"
      ]
     },
     "metadata": {},
     "output_type": "display_data"
    }
   ],
   "source": [
    "plt.plot(X_new, y_proba[:, 0], \"b--\", linewidth=2,\n",
    "label=\"Not Iris virginica proba\")\n",
    "plt.plot(X_new, y_proba[:, 1], \"g-\", linewidth=2, label=\"Iris virginica proba\")\n",
    "plt.plot([decision_boundary, decision_boundary], [0, 1], \"k:\", linewidth=2,\n",
    "label=\"Decision boundary\")\n",
    "# [...] # beautify the figure: add grid, labels, axis, legend, arrows, and samples\n",
    "plt.show()\n"
   ]
  },
  {
   "cell_type": "code",
   "execution_count": 52,
   "id": "c35ef9a9",
   "metadata": {
    "execution": {
     "iopub.execute_input": "2025-06-08T02:10:19.141495Z",
     "iopub.status.busy": "2025-06-08T02:10:19.141155Z",
     "iopub.status.idle": "2025-06-08T02:10:19.173560Z",
     "shell.execute_reply": "2025-06-08T02:10:19.172729Z"
    },
    "papermill": {
     "duration": 0.048467,
     "end_time": "2025-06-08T02:10:19.175504",
     "exception": false,
     "start_time": "2025-06-08T02:10:19.127037",
     "status": "completed"
    },
    "tags": []
   },
   "outputs": [
    {
     "data": {
      "text/html": [
       "<style>#sk-container-id-2 {color: black;background-color: white;}#sk-container-id-2 pre{padding: 0;}#sk-container-id-2 div.sk-toggleable {background-color: white;}#sk-container-id-2 label.sk-toggleable__label {cursor: pointer;display: block;width: 100%;margin-bottom: 0;padding: 0.3em;box-sizing: border-box;text-align: center;}#sk-container-id-2 label.sk-toggleable__label-arrow:before {content: \"▸\";float: left;margin-right: 0.25em;color: #696969;}#sk-container-id-2 label.sk-toggleable__label-arrow:hover:before {color: black;}#sk-container-id-2 div.sk-estimator:hover label.sk-toggleable__label-arrow:before {color: black;}#sk-container-id-2 div.sk-toggleable__content {max-height: 0;max-width: 0;overflow: hidden;text-align: left;background-color: #f0f8ff;}#sk-container-id-2 div.sk-toggleable__content pre {margin: 0.2em;color: black;border-radius: 0.25em;background-color: #f0f8ff;}#sk-container-id-2 input.sk-toggleable__control:checked~div.sk-toggleable__content {max-height: 200px;max-width: 100%;overflow: auto;}#sk-container-id-2 input.sk-toggleable__control:checked~label.sk-toggleable__label-arrow:before {content: \"▾\";}#sk-container-id-2 div.sk-estimator input.sk-toggleable__control:checked~label.sk-toggleable__label {background-color: #d4ebff;}#sk-container-id-2 div.sk-label input.sk-toggleable__control:checked~label.sk-toggleable__label {background-color: #d4ebff;}#sk-container-id-2 input.sk-hidden--visually {border: 0;clip: rect(1px 1px 1px 1px);clip: rect(1px, 1px, 1px, 1px);height: 1px;margin: -1px;overflow: hidden;padding: 0;position: absolute;width: 1px;}#sk-container-id-2 div.sk-estimator {font-family: monospace;background-color: #f0f8ff;border: 1px dotted black;border-radius: 0.25em;box-sizing: border-box;margin-bottom: 0.5em;}#sk-container-id-2 div.sk-estimator:hover {background-color: #d4ebff;}#sk-container-id-2 div.sk-parallel-item::after {content: \"\";width: 100%;border-bottom: 1px solid gray;flex-grow: 1;}#sk-container-id-2 div.sk-label:hover label.sk-toggleable__label {background-color: #d4ebff;}#sk-container-id-2 div.sk-serial::before {content: \"\";position: absolute;border-left: 1px solid gray;box-sizing: border-box;top: 0;bottom: 0;left: 50%;z-index: 0;}#sk-container-id-2 div.sk-serial {display: flex;flex-direction: column;align-items: center;background-color: white;padding-right: 0.2em;padding-left: 0.2em;position: relative;}#sk-container-id-2 div.sk-item {position: relative;z-index: 1;}#sk-container-id-2 div.sk-parallel {display: flex;align-items: stretch;justify-content: center;background-color: white;position: relative;}#sk-container-id-2 div.sk-item::before, #sk-container-id-2 div.sk-parallel-item::before {content: \"\";position: absolute;border-left: 1px solid gray;box-sizing: border-box;top: 0;bottom: 0;left: 50%;z-index: -1;}#sk-container-id-2 div.sk-parallel-item {display: flex;flex-direction: column;z-index: 1;position: relative;background-color: white;}#sk-container-id-2 div.sk-parallel-item:first-child::after {align-self: flex-end;width: 50%;}#sk-container-id-2 div.sk-parallel-item:last-child::after {align-self: flex-start;width: 50%;}#sk-container-id-2 div.sk-parallel-item:only-child::after {width: 0;}#sk-container-id-2 div.sk-dashed-wrapped {border: 1px dashed gray;margin: 0 0.4em 0.5em 0.4em;box-sizing: border-box;padding-bottom: 0.4em;background-color: white;}#sk-container-id-2 div.sk-label label {font-family: monospace;font-weight: bold;display: inline-block;line-height: 1.2em;}#sk-container-id-2 div.sk-label-container {text-align: center;}#sk-container-id-2 div.sk-container {/* jupyter's `normalize.less` sets `[hidden] { display: none; }` but bootstrap.min.css set `[hidden] { display: none !important; }` so we also need the `!important` here to be able to override the default hidden behavior on the sphinx rendered scikit-learn.org. See: https://github.com/scikit-learn/scikit-learn/issues/21755 */display: inline-block !important;position: relative;}#sk-container-id-2 div.sk-text-repr-fallback {display: none;}</style><div id=\"sk-container-id-2\" class=\"sk-top-container\"><div class=\"sk-text-repr-fallback\"><pre>LogisticRegression(C=30, random_state=42)</pre><b>In a Jupyter environment, please rerun this cell to show the HTML representation or trust the notebook. <br />On GitHub, the HTML representation is unable to render, please try loading this page with nbviewer.org.</b></div><div class=\"sk-container\" hidden><div class=\"sk-item\"><div class=\"sk-estimator sk-toggleable\"><input class=\"sk-toggleable__control sk-hidden--visually\" id=\"sk-estimator-id-2\" type=\"checkbox\" checked><label for=\"sk-estimator-id-2\" class=\"sk-toggleable__label sk-toggleable__label-arrow\">LogisticRegression</label><div class=\"sk-toggleable__content\"><pre>LogisticRegression(C=30, random_state=42)</pre></div></div></div></div></div>"
      ],
      "text/plain": [
       "LogisticRegression(C=30, random_state=42)"
      ]
     },
     "execution_count": 52,
     "metadata": {},
     "output_type": "execute_result"
    }
   ],
   "source": [
    "    X = iris.data[[\"petal length (cm)\", \"petal width (cm)\"]].values\n",
    "y = iris[\"target\"]\n",
    "X_train, X_test, y_train, y_test = train_test_split(X, y, random_state=42)\n",
    "softmax_reg = LogisticRegression(C=30, random_state=42)\n",
    "softmax_reg.fit(X_train, y_train)"
   ]
  },
  {
   "cell_type": "code",
   "execution_count": 53,
   "id": "57c61841",
   "metadata": {
    "execution": {
     "iopub.execute_input": "2025-06-08T02:10:19.227041Z",
     "iopub.status.busy": "2025-06-08T02:10:19.226605Z",
     "iopub.status.idle": "2025-06-08T02:10:19.236809Z",
     "shell.execute_reply": "2025-06-08T02:10:19.236099Z"
    },
    "papermill": {
     "duration": 0.038806,
     "end_time": "2025-06-08T02:10:19.238935",
     "exception": false,
     "start_time": "2025-06-08T02:10:19.200129",
     "status": "completed"
    },
    "tags": []
   },
   "outputs": [
    {
     "data": {
      "text/plain": [
       "array([2])"
      ]
     },
     "execution_count": 53,
     "metadata": {},
     "output_type": "execute_result"
    }
   ],
   "source": [
    "softmax_reg.predict([[5, 2]])"
   ]
  },
  {
   "cell_type": "code",
   "execution_count": 54,
   "id": "31537ae9",
   "metadata": {
    "execution": {
     "iopub.execute_input": "2025-06-08T02:10:19.285945Z",
     "iopub.status.busy": "2025-06-08T02:10:19.284047Z",
     "iopub.status.idle": "2025-06-08T02:10:19.293562Z",
     "shell.execute_reply": "2025-06-08T02:10:19.292785Z"
    },
    "papermill": {
     "duration": 0.033654,
     "end_time": "2025-06-08T02:10:19.294793",
     "exception": false,
     "start_time": "2025-06-08T02:10:19.261139",
     "status": "completed"
    },
    "tags": []
   },
   "outputs": [
    {
     "data": {
      "text/plain": [
       "array([[0.  , 0.04, 0.96]])"
      ]
     },
     "execution_count": 54,
     "metadata": {},
     "output_type": "execute_result"
    }
   ],
   "source": [
    "softmax_reg.predict_proba([[5, 2]]).round(2)\n"
   ]
  },
  {
   "cell_type": "code",
   "execution_count": null,
   "id": "5b8ad3e2",
   "metadata": {
    "papermill": {
     "duration": 0.015369,
     "end_time": "2025-06-08T02:10:19.323594",
     "exception": false,
     "start_time": "2025-06-08T02:10:19.308225",
     "status": "completed"
    },
    "tags": []
   },
   "outputs": [],
   "source": []
  }
 ],
 "metadata": {
  "kaggle": {
   "accelerator": "none",
   "dataSources": [],
   "dockerImageVersionId": 31040,
   "isGpuEnabled": false,
   "isInternetEnabled": false,
   "language": "python",
   "sourceType": "notebook"
  },
  "kernelspec": {
   "display_name": "Python 3",
   "language": "python",
   "name": "python3"
  },
  "language_info": {
   "codemirror_mode": {
    "name": "ipython",
    "version": 3
   },
   "file_extension": ".py",
   "mimetype": "text/x-python",
   "name": "python",
   "nbconvert_exporter": "python",
   "pygments_lexer": "ipython3",
   "version": "3.11.11"
  },
  "papermill": {
   "default_parameters": {},
   "duration": 14.551173,
   "end_time": "2025-06-08T02:10:20.159290",
   "environment_variables": {},
   "exception": null,
   "input_path": "__notebook__.ipynb",
   "output_path": "__notebook__.ipynb",
   "parameters": {},
   "start_time": "2025-06-08T02:10:05.608117",
   "version": "2.6.0"
  }
 },
 "nbformat": 4,
 "nbformat_minor": 5
}
